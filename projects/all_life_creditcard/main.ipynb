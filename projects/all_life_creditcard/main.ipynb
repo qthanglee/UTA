{
 "metadata": {
  "language_info": {
   "codemirror_mode": {
    "name": "ipython",
    "version": 3
   },
   "file_extension": ".py",
   "mimetype": "text/x-python",
   "name": "python",
   "nbconvert_exporter": "python",
   "pygments_lexer": "ipython3",
   "version": "3.8.2-final"
  },
  "orig_nbformat": 2,
  "kernelspec": {
   "name": "python_defaultSpec_1600446485198",
   "display_name": "Python 3.8.2 64-bit"
  }
 },
 "nbformat": 4,
 "nbformat_minor": 2,
 "cells": [
  {
   "cell_type": "code",
   "execution_count": 20,
   "metadata": {},
   "outputs": [],
   "source": [
    "import pandas as pd\n",
    "import numpy as np\n",
    "import matplotlib.pyplot as plt \n",
    "%matplotlib inline \n",
    "import seaborn as sns  "
   ]
  },
  {
   "cell_type": "code",
   "execution_count": 21,
   "metadata": {},
   "outputs": [
    {
     "output_type": "execute_result",
     "data": {
      "text/plain": "   Sl_No  Customer Key  Avg_Credit_Limit  Total_Credit_Cards  \\\n0      1         87073            100000                   2   \n1      2         38414             50000                   3   \n2      3         17341             50000                   7   \n3      4         40496             30000                   5   \n4      5         47437            100000                   6   \n\n   Total_visits_bank  Total_visits_online  Total_calls_made  \n0                  1                    1                 0  \n1                  0                   10                 9  \n2                  1                    3                 4  \n3                  1                    1                 4  \n4                  0                   12                 3  ",
      "text/html": "<div>\n<style scoped>\n    .dataframe tbody tr th:only-of-type {\n        vertical-align: middle;\n    }\n\n    .dataframe tbody tr th {\n        vertical-align: top;\n    }\n\n    .dataframe thead th {\n        text-align: right;\n    }\n</style>\n<table border=\"1\" class=\"dataframe\">\n  <thead>\n    <tr style=\"text-align: right;\">\n      <th></th>\n      <th>Sl_No</th>\n      <th>Customer Key</th>\n      <th>Avg_Credit_Limit</th>\n      <th>Total_Credit_Cards</th>\n      <th>Total_visits_bank</th>\n      <th>Total_visits_online</th>\n      <th>Total_calls_made</th>\n    </tr>\n  </thead>\n  <tbody>\n    <tr>\n      <th>0</th>\n      <td>1</td>\n      <td>87073</td>\n      <td>100000</td>\n      <td>2</td>\n      <td>1</td>\n      <td>1</td>\n      <td>0</td>\n    </tr>\n    <tr>\n      <th>1</th>\n      <td>2</td>\n      <td>38414</td>\n      <td>50000</td>\n      <td>3</td>\n      <td>0</td>\n      <td>10</td>\n      <td>9</td>\n    </tr>\n    <tr>\n      <th>2</th>\n      <td>3</td>\n      <td>17341</td>\n      <td>50000</td>\n      <td>7</td>\n      <td>1</td>\n      <td>3</td>\n      <td>4</td>\n    </tr>\n    <tr>\n      <th>3</th>\n      <td>4</td>\n      <td>40496</td>\n      <td>30000</td>\n      <td>5</td>\n      <td>1</td>\n      <td>1</td>\n      <td>4</td>\n    </tr>\n    <tr>\n      <th>4</th>\n      <td>5</td>\n      <td>47437</td>\n      <td>100000</td>\n      <td>6</td>\n      <td>0</td>\n      <td>12</td>\n      <td>3</td>\n    </tr>\n  </tbody>\n</table>\n</div>"
     },
     "metadata": {},
     "execution_count": 21
    }
   ],
   "source": [
    "# load data and get some insight\n",
    "pdata = pd.read_excel(\"data.xlsx\")\n",
    "pdata.head()"
   ]
  },
  {
   "cell_type": "code",
   "execution_count": 22,
   "metadata": {
    "tags": []
   },
   "outputs": [
    {
     "output_type": "stream",
     "name": "stdout",
     "text": "Count unique values in each column\nAvg_Credit_Limit       110\nTotal_Credit_Cards      10\nTotal_visits_bank        6\nTotal_visits_online     16\nTotal_calls_made        11\ndtype: int64\n"
    }
   ],
   "source": [
    "pdata.drop(pdata.columns[[0,1]], inplace=True, axis=1)\n",
    "\n",
    "unique_values = pdata.nunique()\n",
    "print('Count unique values in each column')\n",
    "print(unique_values)"
   ]
  },
  {
   "cell_type": "code",
   "execution_count": 23,
   "metadata": {},
   "outputs": [
    {
     "output_type": "execute_result",
     "data": {
      "text/plain": "                     count          mean           std     min      25%  \\\nAvg_Credit_Limit     660.0  34574.242424  37625.487804  3000.0  10000.0   \nTotal_Credit_Cards   660.0      4.706061      2.167835     1.0      3.0   \nTotal_visits_bank    660.0      2.403030      1.631813     0.0      1.0   \nTotal_visits_online  660.0      2.606061      2.935724     0.0      1.0   \nTotal_calls_made     660.0      3.583333      2.865317     0.0      1.0   \n\n                         50%      75%       max  \nAvg_Credit_Limit     18000.0  48000.0  200000.0  \nTotal_Credit_Cards       5.0      6.0      10.0  \nTotal_visits_bank        2.0      4.0       5.0  \nTotal_visits_online      2.0      4.0      15.0  \nTotal_calls_made         3.0      5.0      10.0  ",
      "text/html": "<div>\n<style scoped>\n    .dataframe tbody tr th:only-of-type {\n        vertical-align: middle;\n    }\n\n    .dataframe tbody tr th {\n        vertical-align: top;\n    }\n\n    .dataframe thead th {\n        text-align: right;\n    }\n</style>\n<table border=\"1\" class=\"dataframe\">\n  <thead>\n    <tr style=\"text-align: right;\">\n      <th></th>\n      <th>count</th>\n      <th>mean</th>\n      <th>std</th>\n      <th>min</th>\n      <th>25%</th>\n      <th>50%</th>\n      <th>75%</th>\n      <th>max</th>\n    </tr>\n  </thead>\n  <tbody>\n    <tr>\n      <th>Avg_Credit_Limit</th>\n      <td>660.0</td>\n      <td>34574.242424</td>\n      <td>37625.487804</td>\n      <td>3000.0</td>\n      <td>10000.0</td>\n      <td>18000.0</td>\n      <td>48000.0</td>\n      <td>200000.0</td>\n    </tr>\n    <tr>\n      <th>Total_Credit_Cards</th>\n      <td>660.0</td>\n      <td>4.706061</td>\n      <td>2.167835</td>\n      <td>1.0</td>\n      <td>3.0</td>\n      <td>5.0</td>\n      <td>6.0</td>\n      <td>10.0</td>\n    </tr>\n    <tr>\n      <th>Total_visits_bank</th>\n      <td>660.0</td>\n      <td>2.403030</td>\n      <td>1.631813</td>\n      <td>0.0</td>\n      <td>1.0</td>\n      <td>2.0</td>\n      <td>4.0</td>\n      <td>5.0</td>\n    </tr>\n    <tr>\n      <th>Total_visits_online</th>\n      <td>660.0</td>\n      <td>2.606061</td>\n      <td>2.935724</td>\n      <td>0.0</td>\n      <td>1.0</td>\n      <td>2.0</td>\n      <td>4.0</td>\n      <td>15.0</td>\n    </tr>\n    <tr>\n      <th>Total_calls_made</th>\n      <td>660.0</td>\n      <td>3.583333</td>\n      <td>2.865317</td>\n      <td>0.0</td>\n      <td>1.0</td>\n      <td>3.0</td>\n      <td>5.0</td>\n      <td>10.0</td>\n    </tr>\n  </tbody>\n</table>\n</div>"
     },
     "metadata": {},
     "execution_count": 23
    }
   ],
   "source": [
    "pdata.describe().transpose()"
   ]
  },
  {
   "cell_type": "code",
   "execution_count": 24,
   "metadata": {
    "tags": []
   },
   "outputs": [
    {
     "output_type": "stream",
     "name": "stdout",
     "text": "Missing values:\nAvg_Credit_Limit       0\nTotal_Credit_Cards     0\nTotal_visits_bank      0\nTotal_visits_online    0\nTotal_calls_made       0\ndtype: int64\n"
    }
   ],
   "source": [
    "print(\"Missing values:\\n{}\".format(pdata.isnull().sum()))"
   ]
  },
  {
   "cell_type": "code",
   "execution_count": null,
   "metadata": {},
   "outputs": [],
   "source": []
  }
 ]
}