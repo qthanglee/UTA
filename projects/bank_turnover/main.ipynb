{
 "metadata": {
  "language_info": {
   "codemirror_mode": {
    "name": "ipython",
    "version": 3
   },
   "file_extension": ".py",
   "mimetype": "text/x-python",
   "name": "python",
   "nbconvert_exporter": "python",
   "pygments_lexer": "ipython3",
   "version": "3.8.2-final"
  },
  "orig_nbformat": 2,
  "kernelspec": {
   "name": "Python 3.8.2 64-bit",
   "display_name": "Python 3.8.2 64-bit",
   "metadata": {
    "interpreter": {
     "hash": "aee8b7b246df8f9039afb4144a1f6fd8d2ca17a180786b69acc140d282b71a49"
    }
   }
  }
 },
 "nbformat": 4,
 "nbformat_minor": 2,
 "cells": [
  {
   "cell_type": "code",
   "execution_count": 55,
   "metadata": {},
   "outputs": [],
   "source": [
    "%matplotlib inline\n",
    "import pandas as pd\n",
    "import numpy as np\n",
    "import random\n",
    "import matplotlib.pyplot as plt"
   ]
  },
  {
   "cell_type": "code",
   "execution_count": 57,
   "metadata": {},
   "outputs": [
    {
     "output_type": "execute_result",
     "data": {
      "text/plain": [
       "   RowNumber  CustomerId   Surname  CreditScore Geography  Gender  Age  \\\n",
       "0          1    15634602  Hargrave          619    France  Female   42   \n",
       "1          2    15647311      Hill          608     Spain  Female   41   \n",
       "2          3    15619304      Onio          502    France  Female   42   \n",
       "3          4    15701354      Boni          699    France  Female   39   \n",
       "4          5    15737888  Mitchell          850     Spain  Female   43   \n",
       "\n",
       "   Tenure    Balance  NumOfProducts  HasCrCard  IsActiveMember  \\\n",
       "0       2       0.00              1          1               1   \n",
       "1       1   83807.86              1          0               1   \n",
       "2       8  159660.80              3          1               0   \n",
       "3       1       0.00              2          0               0   \n",
       "4       2  125510.82              1          1               1   \n",
       "\n",
       "   EstimatedSalary  Exited  \n",
       "0        101348.88       1  \n",
       "1        112542.58       0  \n",
       "2        113931.57       1  \n",
       "3         93826.63       0  \n",
       "4         79084.10       0  "
      ],
      "text/html": "<div>\n<style scoped>\n    .dataframe tbody tr th:only-of-type {\n        vertical-align: middle;\n    }\n\n    .dataframe tbody tr th {\n        vertical-align: top;\n    }\n\n    .dataframe thead th {\n        text-align: right;\n    }\n</style>\n<table border=\"1\" class=\"dataframe\">\n  <thead>\n    <tr style=\"text-align: right;\">\n      <th></th>\n      <th>RowNumber</th>\n      <th>CustomerId</th>\n      <th>Surname</th>\n      <th>CreditScore</th>\n      <th>Geography</th>\n      <th>Gender</th>\n      <th>Age</th>\n      <th>Tenure</th>\n      <th>Balance</th>\n      <th>NumOfProducts</th>\n      <th>HasCrCard</th>\n      <th>IsActiveMember</th>\n      <th>EstimatedSalary</th>\n      <th>Exited</th>\n    </tr>\n  </thead>\n  <tbody>\n    <tr>\n      <th>0</th>\n      <td>1</td>\n      <td>15634602</td>\n      <td>Hargrave</td>\n      <td>619</td>\n      <td>France</td>\n      <td>Female</td>\n      <td>42</td>\n      <td>2</td>\n      <td>0.00</td>\n      <td>1</td>\n      <td>1</td>\n      <td>1</td>\n      <td>101348.88</td>\n      <td>1</td>\n    </tr>\n    <tr>\n      <th>1</th>\n      <td>2</td>\n      <td>15647311</td>\n      <td>Hill</td>\n      <td>608</td>\n      <td>Spain</td>\n      <td>Female</td>\n      <td>41</td>\n      <td>1</td>\n      <td>83807.86</td>\n      <td>1</td>\n      <td>0</td>\n      <td>1</td>\n      <td>112542.58</td>\n      <td>0</td>\n    </tr>\n    <tr>\n      <th>2</th>\n      <td>3</td>\n      <td>15619304</td>\n      <td>Onio</td>\n      <td>502</td>\n      <td>France</td>\n      <td>Female</td>\n      <td>42</td>\n      <td>8</td>\n      <td>159660.80</td>\n      <td>3</td>\n      <td>1</td>\n      <td>0</td>\n      <td>113931.57</td>\n      <td>1</td>\n    </tr>\n    <tr>\n      <th>3</th>\n      <td>4</td>\n      <td>15701354</td>\n      <td>Boni</td>\n      <td>699</td>\n      <td>France</td>\n      <td>Female</td>\n      <td>39</td>\n      <td>1</td>\n      <td>0.00</td>\n      <td>2</td>\n      <td>0</td>\n      <td>0</td>\n      <td>93826.63</td>\n      <td>0</td>\n    </tr>\n    <tr>\n      <th>4</th>\n      <td>5</td>\n      <td>15737888</td>\n      <td>Mitchell</td>\n      <td>850</td>\n      <td>Spain</td>\n      <td>Female</td>\n      <td>43</td>\n      <td>2</td>\n      <td>125510.82</td>\n      <td>1</td>\n      <td>1</td>\n      <td>1</td>\n      <td>79084.10</td>\n      <td>0</td>\n    </tr>\n  </tbody>\n</table>\n</div>"
     },
     "metadata": {},
     "execution_count": 57
    }
   ],
   "source": [
    "# Read dataset\n",
    "pdata = pd.read_csv(\"bank.csv\")\n",
    "pdata.head()"
   ]
  },
  {
   "cell_type": "code",
   "execution_count": 58,
   "metadata": {},
   "outputs": [
    {
     "output_type": "execute_result",
     "data": {
      "text/plain": [
       "RowNumber          10000\n",
       "CustomerId         10000\n",
       "Surname             2932\n",
       "CreditScore          460\n",
       "Geography              3\n",
       "Gender                 2\n",
       "Age                   70\n",
       "Tenure                11\n",
       "Balance             6382\n",
       "NumOfProducts          4\n",
       "HasCrCard              2\n",
       "IsActiveMember         2\n",
       "EstimatedSalary     9999\n",
       "Exited                 2\n",
       "dtype: int64"
      ]
     },
     "metadata": {},
     "execution_count": 58
    }
   ],
   "source": [
    "pdata.nunique()"
   ]
  },
  {
   "cell_type": "code",
   "execution_count": 59,
   "metadata": {},
   "outputs": [
    {
     "output_type": "execute_result",
     "data": {
      "text/plain": [
       "   CreditScore Geography  Gender  Age  Tenure    Balance  NumOfProducts  \\\n",
       "0          619    France  Female   42       2       0.00              1   \n",
       "1          608     Spain  Female   41       1   83807.86              1   \n",
       "2          502    France  Female   42       8  159660.80              3   \n",
       "3          699    France  Female   39       1       0.00              2   \n",
       "4          850     Spain  Female   43       2  125510.82              1   \n",
       "\n",
       "   HasCrCard  IsActiveMember  EstimatedSalary  Exited  \n",
       "0          1               1        101348.88       1  \n",
       "1          0               1        112542.58       0  \n",
       "2          1               0        113931.57       1  \n",
       "3          0               0         93826.63       0  \n",
       "4          1               1         79084.10       0  "
      ],
      "text/html": "<div>\n<style scoped>\n    .dataframe tbody tr th:only-of-type {\n        vertical-align: middle;\n    }\n\n    .dataframe tbody tr th {\n        vertical-align: top;\n    }\n\n    .dataframe thead th {\n        text-align: right;\n    }\n</style>\n<table border=\"1\" class=\"dataframe\">\n  <thead>\n    <tr style=\"text-align: right;\">\n      <th></th>\n      <th>CreditScore</th>\n      <th>Geography</th>\n      <th>Gender</th>\n      <th>Age</th>\n      <th>Tenure</th>\n      <th>Balance</th>\n      <th>NumOfProducts</th>\n      <th>HasCrCard</th>\n      <th>IsActiveMember</th>\n      <th>EstimatedSalary</th>\n      <th>Exited</th>\n    </tr>\n  </thead>\n  <tbody>\n    <tr>\n      <th>0</th>\n      <td>619</td>\n      <td>France</td>\n      <td>Female</td>\n      <td>42</td>\n      <td>2</td>\n      <td>0.00</td>\n      <td>1</td>\n      <td>1</td>\n      <td>1</td>\n      <td>101348.88</td>\n      <td>1</td>\n    </tr>\n    <tr>\n      <th>1</th>\n      <td>608</td>\n      <td>Spain</td>\n      <td>Female</td>\n      <td>41</td>\n      <td>1</td>\n      <td>83807.86</td>\n      <td>1</td>\n      <td>0</td>\n      <td>1</td>\n      <td>112542.58</td>\n      <td>0</td>\n    </tr>\n    <tr>\n      <th>2</th>\n      <td>502</td>\n      <td>France</td>\n      <td>Female</td>\n      <td>42</td>\n      <td>8</td>\n      <td>159660.80</td>\n      <td>3</td>\n      <td>1</td>\n      <td>0</td>\n      <td>113931.57</td>\n      <td>1</td>\n    </tr>\n    <tr>\n      <th>3</th>\n      <td>699</td>\n      <td>France</td>\n      <td>Female</td>\n      <td>39</td>\n      <td>1</td>\n      <td>0.00</td>\n      <td>2</td>\n      <td>0</td>\n      <td>0</td>\n      <td>93826.63</td>\n      <td>0</td>\n    </tr>\n    <tr>\n      <th>4</th>\n      <td>850</td>\n      <td>Spain</td>\n      <td>Female</td>\n      <td>43</td>\n      <td>2</td>\n      <td>125510.82</td>\n      <td>1</td>\n      <td>1</td>\n      <td>1</td>\n      <td>79084.10</td>\n      <td>0</td>\n    </tr>\n  </tbody>\n</table>\n</div>"
     },
     "metadata": {},
     "execution_count": 59
    }
   ],
   "source": [
    "# Drop the columns which are unique for all users\n",
    "pdata = pdata.drop([\"RowNumber\", \"CustomerId\", \"Surname\"], axis = 1)\n",
    "pdata.head()"
   ]
  },
  {
   "cell_type": "code",
   "execution_count": 60,
   "metadata": {},
   "outputs": [
    {
     "output_type": "stream",
     "name": "stdout",
     "text": [
      "<class 'pandas.core.frame.DataFrame'>\nRangeIndex: 10000 entries, 0 to 9999\nData columns (total 11 columns):\n #   Column           Non-Null Count  Dtype  \n---  ------           --------------  -----  \n 0   CreditScore      10000 non-null  int64  \n 1   Geography        10000 non-null  object \n 2   Gender           10000 non-null  object \n 3   Age              10000 non-null  int64  \n 4   Tenure           10000 non-null  int64  \n 5   Balance          10000 non-null  float64\n 6   NumOfProducts    10000 non-null  int64  \n 7   HasCrCard        10000 non-null  int64  \n 8   IsActiveMember   10000 non-null  int64  \n 9   EstimatedSalary  10000 non-null  float64\n 10  Exited           10000 non-null  int64  \ndtypes: float64(2), int64(7), object(2)\nmemory usage: 859.5+ KB\n"
     ]
    }
   ],
   "source": [
    "pdata.info()"
   ]
  },
  {
   "cell_type": "code",
   "execution_count": 61,
   "metadata": {},
   "outputs": [
    {
     "output_type": "execute_result",
     "data": {
      "text/plain": [
       "   CreditScore  Age  Tenure    Balance  NumOfProducts  HasCrCard  \\\n",
       "0          619   42       2       0.00              1          1   \n",
       "1          608   41       1   83807.86              1          0   \n",
       "2          502   42       8  159660.80              3          1   \n",
       "3          699   39       1       0.00              2          0   \n",
       "4          850   43       2  125510.82              1          1   \n",
       "\n",
       "   IsActiveMember  EstimatedSalary  Exited  Geography_France  \\\n",
       "0               1        101348.88       1                 1   \n",
       "1               1        112542.58       0                 0   \n",
       "2               0        113931.57       1                 1   \n",
       "3               0         93826.63       0                 1   \n",
       "4               1         79084.10       0                 0   \n",
       "\n",
       "   Geography_Germany  Geography_Spain  Gender_Female  Gender_Male  \n",
       "0                  0                0              1            0  \n",
       "1                  0                1              1            0  \n",
       "2                  0                0              1            0  \n",
       "3                  0                0              1            0  \n",
       "4                  0                1              1            0  "
      ],
      "text/html": "<div>\n<style scoped>\n    .dataframe tbody tr th:only-of-type {\n        vertical-align: middle;\n    }\n\n    .dataframe tbody tr th {\n        vertical-align: top;\n    }\n\n    .dataframe thead th {\n        text-align: right;\n    }\n</style>\n<table border=\"1\" class=\"dataframe\">\n  <thead>\n    <tr style=\"text-align: right;\">\n      <th></th>\n      <th>CreditScore</th>\n      <th>Age</th>\n      <th>Tenure</th>\n      <th>Balance</th>\n      <th>NumOfProducts</th>\n      <th>HasCrCard</th>\n      <th>IsActiveMember</th>\n      <th>EstimatedSalary</th>\n      <th>Exited</th>\n      <th>Geography_France</th>\n      <th>Geography_Germany</th>\n      <th>Geography_Spain</th>\n      <th>Gender_Female</th>\n      <th>Gender_Male</th>\n    </tr>\n  </thead>\n  <tbody>\n    <tr>\n      <th>0</th>\n      <td>619</td>\n      <td>42</td>\n      <td>2</td>\n      <td>0.00</td>\n      <td>1</td>\n      <td>1</td>\n      <td>1</td>\n      <td>101348.88</td>\n      <td>1</td>\n      <td>1</td>\n      <td>0</td>\n      <td>0</td>\n      <td>1</td>\n      <td>0</td>\n    </tr>\n    <tr>\n      <th>1</th>\n      <td>608</td>\n      <td>41</td>\n      <td>1</td>\n      <td>83807.86</td>\n      <td>1</td>\n      <td>0</td>\n      <td>1</td>\n      <td>112542.58</td>\n      <td>0</td>\n      <td>0</td>\n      <td>0</td>\n      <td>1</td>\n      <td>1</td>\n      <td>0</td>\n    </tr>\n    <tr>\n      <th>2</th>\n      <td>502</td>\n      <td>42</td>\n      <td>8</td>\n      <td>159660.80</td>\n      <td>3</td>\n      <td>1</td>\n      <td>0</td>\n      <td>113931.57</td>\n      <td>1</td>\n      <td>1</td>\n      <td>0</td>\n      <td>0</td>\n      <td>1</td>\n      <td>0</td>\n    </tr>\n    <tr>\n      <th>3</th>\n      <td>699</td>\n      <td>39</td>\n      <td>1</td>\n      <td>0.00</td>\n      <td>2</td>\n      <td>0</td>\n      <td>0</td>\n      <td>93826.63</td>\n      <td>0</td>\n      <td>1</td>\n      <td>0</td>\n      <td>0</td>\n      <td>1</td>\n      <td>0</td>\n    </tr>\n    <tr>\n      <th>4</th>\n      <td>850</td>\n      <td>43</td>\n      <td>2</td>\n      <td>125510.82</td>\n      <td>1</td>\n      <td>1</td>\n      <td>1</td>\n      <td>79084.10</td>\n      <td>0</td>\n      <td>0</td>\n      <td>0</td>\n      <td>1</td>\n      <td>1</td>\n      <td>0</td>\n    </tr>\n  </tbody>\n</table>\n</div>"
     },
     "metadata": {},
     "execution_count": 61
    }
   ],
   "source": [
    "# Convert categorical variables\n",
    "pdata = pd.get_dummies(pdata, columns=['Geography'])\n",
    "pdata = pd.get_dummies(pdata, columns=['Gender'])\n",
    "pdata.head()"
   ]
  },
  {
   "cell_type": "code",
   "execution_count": 62,
   "metadata": {},
   "outputs": [],
   "source": [
    "# Distinguish the features and target variable\n",
    "X =  pdata.drop(['Exited'], axis=1)\n",
    "Y = pdata[\"Exited\"]\n"
   ]
  },
  {
   "cell_type": "code",
   "execution_count": 63,
   "metadata": {},
   "outputs": [
    {
     "output_type": "stream",
     "name": "stdout",
     "text": [
      "(8000, 13) (2000, 13) (8000,) (2000,)\n"
     ]
    }
   ],
   "source": [
    "# Normalize the train and test data\n",
    "from sklearn.model_selection import train_test_split\n",
    "from sklearn.preprocessing import StandardScaler\n",
    "X_train, X_test, Y_train, Y_test = train_test_split(X, Y, test_size = 0.2, random_state = 0)\n",
    "print(X_train.shape, X_test.shape, Y_train.shape, Y_test.shape)\n",
    "# Feature scaling\n",
    "sc = StandardScaler()\n",
    "X_train = sc.fit_transform(X_train)\n",
    "X_test = sc.transform(X_test)"
   ]
  },
  {
   "cell_type": "code",
   "execution_count": 64,
   "metadata": {},
   "outputs": [],
   "source": [
    "# Import libs\n",
    "import keras\n",
    "from keras.models import Sequential\n",
    "from keras.layers import Dense\n",
    "import matplotlib.pyplot as plt\n",
    "from sklearn.metrics import accuracy_score\n",
    "from sklearn.metrics import confusion_matrix\n",
    "from sklearn.metrics import classification_report\n"
   ]
  },
  {
   "cell_type": "code",
   "execution_count": 69,
   "metadata": {},
   "outputs": [],
   "source": [
    "# Initialize & build the model\n",
    "model_classifier = Sequential()\n",
    "# Add 2 hidden layers\n",
    "model_classifier.add(Dense(16 ,activation='relu',input_dim = 13))\n",
    "model_classifier.add(Dense(16,activation='relu'))\n",
    "\n",
    "# Add output layer\n",
    "model_classifier.add(Dense(1, activation='sigmoid'))"
   ]
  },
  {
   "cell_type": "code",
   "execution_count": 71,
   "metadata": {},
   "outputs": [
    {
     "output_type": "stream",
     "name": "stdout",
     "text": [
      "Epoch 1/100\n",
      "1/1 [==============================] - 0s 234ms/step - loss: 2.4319e-08 - accuracy: 0.7950 - val_loss: 2.4140e-08 - val_accuracy: 0.7975\n",
      "Epoch 2/100\n",
      "1/1 [==============================] - 0s 40ms/step - loss: 2.4319e-08 - accuracy: 0.7950 - val_loss: 2.4140e-08 - val_accuracy: 0.7975\n",
      "Epoch 3/100\n",
      "1/1 [==============================] - 0s 67ms/step - loss: 2.4319e-08 - accuracy: 0.7950 - val_loss: 2.4140e-08 - val_accuracy: 0.7975\n",
      "Epoch 4/100\n",
      "1/1 [==============================] - 0s 55ms/step - loss: 2.4319e-08 - accuracy: 0.7950 - val_loss: 2.4140e-08 - val_accuracy: 0.7975\n",
      "Epoch 5/100\n",
      "1/1 [==============================] - 0s 68ms/step - loss: 2.4319e-08 - accuracy: 0.7950 - val_loss: 2.4140e-08 - val_accuracy: 0.7975\n",
      "Epoch 6/100\n",
      "1/1 [==============================] - 0s 59ms/step - loss: 2.4319e-08 - accuracy: 0.7950 - val_loss: 2.4140e-08 - val_accuracy: 0.7975\n",
      "Epoch 7/100\n",
      "1/1 [==============================] - 0s 81ms/step - loss: 2.4319e-08 - accuracy: 0.7950 - val_loss: 2.4140e-08 - val_accuracy: 0.7975\n",
      "Epoch 8/100\n",
      "1/1 [==============================] - 0s 51ms/step - loss: 2.4319e-08 - accuracy: 0.7950 - val_loss: 2.4140e-08 - val_accuracy: 0.7975\n",
      "Epoch 9/100\n",
      "1/1 [==============================] - 0s 63ms/step - loss: 2.4319e-08 - accuracy: 0.7950 - val_loss: 2.4140e-08 - val_accuracy: 0.7975\n",
      "Epoch 10/100\n",
      "1/1 [==============================] - 0s 44ms/step - loss: 2.4319e-08 - accuracy: 0.7950 - val_loss: 2.4140e-08 - val_accuracy: 0.7975\n",
      "Epoch 11/100\n",
      "1/1 [==============================] - 0s 51ms/step - loss: 2.4319e-08 - accuracy: 0.7950 - val_loss: 2.4140e-08 - val_accuracy: 0.7975\n",
      "Epoch 12/100\n",
      "1/1 [==============================] - 0s 40ms/step - loss: 2.4319e-08 - accuracy: 0.7950 - val_loss: 2.4140e-08 - val_accuracy: 0.7975\n",
      "Epoch 13/100\n",
      "1/1 [==============================] - 0s 44ms/step - loss: 2.4319e-08 - accuracy: 0.7950 - val_loss: 2.4140e-08 - val_accuracy: 0.7975\n",
      "Epoch 14/100\n",
      "1/1 [==============================] - 0s 101ms/step - loss: 2.4319e-08 - accuracy: 0.7950 - val_loss: 2.4140e-08 - val_accuracy: 0.7975\n",
      "Epoch 15/100\n",
      "1/1 [==============================] - 0s 70ms/step - loss: 2.4319e-08 - accuracy: 0.7950 - val_loss: 2.4140e-08 - val_accuracy: 0.7975\n",
      "Epoch 16/100\n",
      "1/1 [==============================] - 0s 39ms/step - loss: 2.4319e-08 - accuracy: 0.7950 - val_loss: 2.4140e-08 - val_accuracy: 0.7975\n",
      "Epoch 17/100\n",
      "1/1 [==============================] - 0s 37ms/step - loss: 2.4319e-08 - accuracy: 0.7950 - val_loss: 2.4140e-08 - val_accuracy: 0.7975\n",
      "Epoch 18/100\n",
      "1/1 [==============================] - 0s 41ms/step - loss: 2.4319e-08 - accuracy: 0.7950 - val_loss: 2.4140e-08 - val_accuracy: 0.7975\n",
      "Epoch 19/100\n",
      "1/1 [==============================] - 0s 70ms/step - loss: 2.4319e-08 - accuracy: 0.7950 - val_loss: 2.4140e-08 - val_accuracy: 0.7975\n",
      "Epoch 20/100\n",
      "1/1 [==============================] - 0s 44ms/step - loss: 2.4319e-08 - accuracy: 0.7950 - val_loss: 2.4140e-08 - val_accuracy: 0.7975\n",
      "Epoch 21/100\n",
      "1/1 [==============================] - 0s 42ms/step - loss: 2.4319e-08 - accuracy: 0.7950 - val_loss: 2.4140e-08 - val_accuracy: 0.7975\n",
      "Epoch 22/100\n",
      "1/1 [==============================] - 0s 42ms/step - loss: 2.4319e-08 - accuracy: 0.7950 - val_loss: 2.4140e-08 - val_accuracy: 0.7975\n",
      "Epoch 23/100\n",
      "1/1 [==============================] - 0s 40ms/step - loss: 2.4319e-08 - accuracy: 0.7950 - val_loss: 2.4140e-08 - val_accuracy: 0.7975\n",
      "Epoch 24/100\n",
      "1/1 [==============================] - 0s 46ms/step - loss: 2.4319e-08 - accuracy: 0.7950 - val_loss: 2.4140e-08 - val_accuracy: 0.7975\n",
      "Epoch 25/100\n",
      "1/1 [==============================] - 0s 41ms/step - loss: 2.4319e-08 - accuracy: 0.7950 - val_loss: 2.4140e-08 - val_accuracy: 0.7975\n",
      "Epoch 26/100\n",
      "1/1 [==============================] - 0s 42ms/step - loss: 2.4319e-08 - accuracy: 0.7950 - val_loss: 2.4140e-08 - val_accuracy: 0.7975\n",
      "Epoch 27/100\n",
      "1/1 [==============================] - 0s 40ms/step - loss: 2.4319e-08 - accuracy: 0.7950 - val_loss: 2.4140e-08 - val_accuracy: 0.7975\n",
      "Epoch 28/100\n",
      "1/1 [==============================] - 0s 47ms/step - loss: 2.4319e-08 - accuracy: 0.7950 - val_loss: 2.4140e-08 - val_accuracy: 0.7975\n",
      "Epoch 29/100\n",
      "1/1 [==============================] - 0s 39ms/step - loss: 2.4319e-08 - accuracy: 0.7950 - val_loss: 2.4140e-08 - val_accuracy: 0.7975\n",
      "Epoch 30/100\n",
      "1/1 [==============================] - 0s 44ms/step - loss: 2.4319e-08 - accuracy: 0.7950 - val_loss: 2.4140e-08 - val_accuracy: 0.7975\n",
      "Epoch 31/100\n",
      "1/1 [==============================] - 0s 41ms/step - loss: 2.4319e-08 - accuracy: 0.7950 - val_loss: 2.4140e-08 - val_accuracy: 0.7975\n",
      "Epoch 32/100\n",
      "1/1 [==============================] - 0s 37ms/step - loss: 2.4319e-08 - accuracy: 0.7950 - val_loss: 2.4140e-08 - val_accuracy: 0.7975\n",
      "Epoch 33/100\n",
      "1/1 [==============================] - 0s 40ms/step - loss: 2.4319e-08 - accuracy: 0.7950 - val_loss: 2.4140e-08 - val_accuracy: 0.7975\n",
      "Epoch 34/100\n",
      "1/1 [==============================] - 0s 45ms/step - loss: 2.4319e-08 - accuracy: 0.7950 - val_loss: 2.4140e-08 - val_accuracy: 0.7975\n",
      "Epoch 35/100\n",
      "1/1 [==============================] - 0s 45ms/step - loss: 2.4319e-08 - accuracy: 0.7950 - val_loss: 2.4140e-08 - val_accuracy: 0.7975\n",
      "Epoch 36/100\n",
      "1/1 [==============================] - 0s 42ms/step - loss: 2.4319e-08 - accuracy: 0.7950 - val_loss: 2.4140e-08 - val_accuracy: 0.7975\n",
      "Epoch 37/100\n",
      "1/1 [==============================] - 0s 45ms/step - loss: 2.4319e-08 - accuracy: 0.7950 - val_loss: 2.4140e-08 - val_accuracy: 0.7975\n",
      "Epoch 38/100\n",
      "1/1 [==============================] - 0s 51ms/step - loss: 2.4319e-08 - accuracy: 0.7950 - val_loss: 2.4140e-08 - val_accuracy: 0.7975\n",
      "Epoch 39/100\n",
      "1/1 [==============================] - 0s 39ms/step - loss: 2.4319e-08 - accuracy: 0.7950 - val_loss: 2.4140e-08 - val_accuracy: 0.7975\n",
      "Epoch 40/100\n",
      "1/1 [==============================] - 0s 70ms/step - loss: 2.4319e-08 - accuracy: 0.7950 - val_loss: 2.4140e-08 - val_accuracy: 0.7975\n",
      "Epoch 41/100\n",
      "1/1 [==============================] - 0s 40ms/step - loss: 2.4319e-08 - accuracy: 0.7950 - val_loss: 2.4140e-08 - val_accuracy: 0.7975\n",
      "Epoch 42/100\n",
      "1/1 [==============================] - 0s 41ms/step - loss: 2.4319e-08 - accuracy: 0.7950 - val_loss: 2.4140e-08 - val_accuracy: 0.7975\n",
      "Epoch 43/100\n",
      "1/1 [==============================] - 0s 43ms/step - loss: 2.4319e-08 - accuracy: 0.7950 - val_loss: 2.4140e-08 - val_accuracy: 0.7975\n",
      "Epoch 44/100\n",
      "1/1 [==============================] - 0s 62ms/step - loss: 2.4319e-08 - accuracy: 0.7950 - val_loss: 2.4140e-08 - val_accuracy: 0.7975\n",
      "Epoch 45/100\n",
      "1/1 [==============================] - 0s 50ms/step - loss: 2.4319e-08 - accuracy: 0.7950 - val_loss: 2.4140e-08 - val_accuracy: 0.7975\n",
      "Epoch 46/100\n",
      "1/1 [==============================] - 0s 48ms/step - loss: 2.4319e-08 - accuracy: 0.7950 - val_loss: 2.4140e-08 - val_accuracy: 0.7975\n",
      "Epoch 47/100\n",
      "1/1 [==============================] - 0s 38ms/step - loss: 2.4319e-08 - accuracy: 0.7950 - val_loss: 2.4140e-08 - val_accuracy: 0.7975\n",
      "Epoch 48/100\n",
      "1/1 [==============================] - 0s 50ms/step - loss: 2.4319e-08 - accuracy: 0.7950 - val_loss: 2.4140e-08 - val_accuracy: 0.7975\n",
      "Epoch 49/100\n",
      "1/1 [==============================] - 0s 39ms/step - loss: 2.4319e-08 - accuracy: 0.7950 - val_loss: 2.4140e-08 - val_accuracy: 0.7975\n",
      "Epoch 50/100\n",
      "1/1 [==============================] - 0s 37ms/step - loss: 2.4319e-08 - accuracy: 0.7950 - val_loss: 2.4140e-08 - val_accuracy: 0.7975\n",
      "Epoch 51/100\n",
      "1/1 [==============================] - 0s 38ms/step - loss: 2.4319e-08 - accuracy: 0.7950 - val_loss: 2.4140e-08 - val_accuracy: 0.7975\n",
      "Epoch 52/100\n",
      "1/1 [==============================] - 0s 40ms/step - loss: 2.4319e-08 - accuracy: 0.7950 - val_loss: 2.4140e-08 - val_accuracy: 0.7975\n",
      "Epoch 53/100\n",
      "1/1 [==============================] - 0s 52ms/step - loss: 2.4319e-08 - accuracy: 0.7950 - val_loss: 2.4140e-08 - val_accuracy: 0.7975\n",
      "Epoch 54/100\n",
      "1/1 [==============================] - 0s 50ms/step - loss: 2.4319e-08 - accuracy: 0.7950 - val_loss: 2.4140e-08 - val_accuracy: 0.7975\n",
      "Epoch 55/100\n",
      "1/1 [==============================] - 0s 49ms/step - loss: 2.4319e-08 - accuracy: 0.7950 - val_loss: 2.4140e-08 - val_accuracy: 0.7975\n",
      "Epoch 56/100\n",
      "1/1 [==============================] - 0s 35ms/step - loss: 2.4319e-08 - accuracy: 0.7950 - val_loss: 2.4140e-08 - val_accuracy: 0.7975\n",
      "Epoch 57/100\n",
      "1/1 [==============================] - 0s 52ms/step - loss: 2.4319e-08 - accuracy: 0.7950 - val_loss: 2.4140e-08 - val_accuracy: 0.7975\n",
      "Epoch 58/100\n",
      "1/1 [==============================] - 0s 43ms/step - loss: 2.4319e-08 - accuracy: 0.7950 - val_loss: 2.4140e-08 - val_accuracy: 0.7975\n",
      "Epoch 59/100\n",
      "1/1 [==============================] - 0s 71ms/step - loss: 2.4319e-08 - accuracy: 0.7950 - val_loss: 2.4140e-08 - val_accuracy: 0.7975\n",
      "Epoch 60/100\n",
      "1/1 [==============================] - 0s 62ms/step - loss: 2.4319e-08 - accuracy: 0.7950 - val_loss: 2.4140e-08 - val_accuracy: 0.7975\n",
      "Epoch 61/100\n",
      "1/1 [==============================] - 0s 53ms/step - loss: 2.4319e-08 - accuracy: 0.7950 - val_loss: 2.4140e-08 - val_accuracy: 0.7975\n",
      "Epoch 62/100\n",
      "1/1 [==============================] - 0s 43ms/step - loss: 2.4319e-08 - accuracy: 0.7950 - val_loss: 2.4140e-08 - val_accuracy: 0.7975\n",
      "Epoch 63/100\n",
      "1/1 [==============================] - 0s 42ms/step - loss: 2.4319e-08 - accuracy: 0.7950 - val_loss: 2.4140e-08 - val_accuracy: 0.7975\n",
      "Epoch 64/100\n",
      "1/1 [==============================] - 0s 43ms/step - loss: 2.4319e-08 - accuracy: 0.7950 - val_loss: 2.4140e-08 - val_accuracy: 0.7975\n",
      "Epoch 65/100\n",
      "1/1 [==============================] - 0s 49ms/step - loss: 2.4319e-08 - accuracy: 0.7950 - val_loss: 2.4140e-08 - val_accuracy: 0.7975\n",
      "Epoch 66/100\n",
      "1/1 [==============================] - 0s 44ms/step - loss: 2.4319e-08 - accuracy: 0.7950 - val_loss: 2.4140e-08 - val_accuracy: 0.7975\n",
      "Epoch 67/100\n",
      "1/1 [==============================] - 0s 57ms/step - loss: 2.4319e-08 - accuracy: 0.7950 - val_loss: 2.4140e-08 - val_accuracy: 0.7975\n",
      "Epoch 68/100\n",
      "1/1 [==============================] - 0s 47ms/step - loss: 2.4319e-08 - accuracy: 0.7950 - val_loss: 2.4140e-08 - val_accuracy: 0.7975\n",
      "Epoch 69/100\n",
      "1/1 [==============================] - 0s 44ms/step - loss: 2.4319e-08 - accuracy: 0.7950 - val_loss: 2.4140e-08 - val_accuracy: 0.7975\n",
      "Epoch 70/100\n",
      "1/1 [==============================] - 0s 43ms/step - loss: 2.4319e-08 - accuracy: 0.7950 - val_loss: 2.4140e-08 - val_accuracy: 0.7975\n",
      "Epoch 71/100\n",
      "1/1 [==============================] - 0s 42ms/step - loss: 2.4319e-08 - accuracy: 0.7950 - val_loss: 2.4140e-08 - val_accuracy: 0.7975\n",
      "Epoch 72/100\n",
      "1/1 [==============================] - 0s 58ms/step - loss: 2.4319e-08 - accuracy: 0.7950 - val_loss: 2.4140e-08 - val_accuracy: 0.7975\n",
      "Epoch 73/100\n",
      "1/1 [==============================] - 0s 55ms/step - loss: 2.4319e-08 - accuracy: 0.7950 - val_loss: 2.4140e-08 - val_accuracy: 0.7975\n",
      "Epoch 74/100\n",
      "1/1 [==============================] - 0s 43ms/step - loss: 2.4319e-08 - accuracy: 0.7950 - val_loss: 2.4140e-08 - val_accuracy: 0.7975\n",
      "Epoch 75/100\n",
      "1/1 [==============================] - 0s 46ms/step - loss: 2.4319e-08 - accuracy: 0.7950 - val_loss: 2.4140e-08 - val_accuracy: 0.7975\n",
      "Epoch 76/100\n",
      "1/1 [==============================] - 0s 37ms/step - loss: 2.4319e-08 - accuracy: 0.7950 - val_loss: 2.4140e-08 - val_accuracy: 0.7975\n",
      "Epoch 77/100\n",
      "1/1 [==============================] - 0s 58ms/step - loss: 2.4319e-08 - accuracy: 0.7950 - val_loss: 2.4140e-08 - val_accuracy: 0.7975\n",
      "Epoch 78/100\n",
      "1/1 [==============================] - 0s 41ms/step - loss: 2.4319e-08 - accuracy: 0.7950 - val_loss: 2.4140e-08 - val_accuracy: 0.7975\n",
      "Epoch 79/100\n",
      "1/1 [==============================] - 0s 47ms/step - loss: 2.4319e-08 - accuracy: 0.7950 - val_loss: 2.4140e-08 - val_accuracy: 0.7975\n",
      "Epoch 80/100\n",
      "1/1 [==============================] - 0s 43ms/step - loss: 2.4319e-08 - accuracy: 0.7950 - val_loss: 2.4140e-08 - val_accuracy: 0.7975\n",
      "Epoch 81/100\n",
      "1/1 [==============================] - 0s 70ms/step - loss: 2.4319e-08 - accuracy: 0.7950 - val_loss: 2.4140e-08 - val_accuracy: 0.7975\n",
      "Epoch 82/100\n",
      "1/1 [==============================] - 0s 41ms/step - loss: 2.4319e-08 - accuracy: 0.7950 - val_loss: 2.4140e-08 - val_accuracy: 0.7975\n",
      "Epoch 83/100\n",
      "1/1 [==============================] - 0s 43ms/step - loss: 2.4319e-08 - accuracy: 0.7950 - val_loss: 2.4140e-08 - val_accuracy: 0.7975\n",
      "Epoch 84/100\n",
      "1/1 [==============================] - 0s 66ms/step - loss: 2.4319e-08 - accuracy: 0.7950 - val_loss: 2.4140e-08 - val_accuracy: 0.7975\n",
      "Epoch 85/100\n",
      "1/1 [==============================] - 0s 50ms/step - loss: 2.4319e-08 - accuracy: 0.7950 - val_loss: 2.4140e-08 - val_accuracy: 0.7975\n",
      "Epoch 86/100\n",
      "1/1 [==============================] - 0s 64ms/step - loss: 2.4319e-08 - accuracy: 0.7950 - val_loss: 2.4140e-08 - val_accuracy: 0.7975\n",
      "Epoch 87/100\n",
      "1/1 [==============================] - 0s 50ms/step - loss: 2.4319e-08 - accuracy: 0.7950 - val_loss: 2.4140e-08 - val_accuracy: 0.7975\n",
      "Epoch 88/100\n",
      "1/1 [==============================] - 0s 45ms/step - loss: 2.4319e-08 - accuracy: 0.7950 - val_loss: 2.4140e-08 - val_accuracy: 0.7975\n",
      "Epoch 89/100\n",
      "1/1 [==============================] - 0s 57ms/step - loss: 2.4319e-08 - accuracy: 0.7950 - val_loss: 2.4140e-08 - val_accuracy: 0.7975\n",
      "Epoch 90/100\n",
      "1/1 [==============================] - 0s 49ms/step - loss: 2.4319e-08 - accuracy: 0.7950 - val_loss: 2.4140e-08 - val_accuracy: 0.7975\n",
      "Epoch 91/100\n",
      "1/1 [==============================] - 0s 63ms/step - loss: 2.4319e-08 - accuracy: 0.7950 - val_loss: 2.4140e-08 - val_accuracy: 0.7975\n",
      "Epoch 92/100\n",
      "1/1 [==============================] - 0s 49ms/step - loss: 2.4319e-08 - accuracy: 0.7950 - val_loss: 2.4140e-08 - val_accuracy: 0.7975\n",
      "Epoch 93/100\n",
      "1/1 [==============================] - 0s 41ms/step - loss: 2.4319e-08 - accuracy: 0.7950 - val_loss: 2.4140e-08 - val_accuracy: 0.7975\n",
      "Epoch 94/100\n",
      "1/1 [==============================] - 0s 43ms/step - loss: 2.4319e-08 - accuracy: 0.7950 - val_loss: 2.4140e-08 - val_accuracy: 0.7975\n",
      "Epoch 95/100\n",
      "1/1 [==============================] - 0s 50ms/step - loss: 2.4319e-08 - accuracy: 0.7950 - val_loss: 2.4140e-08 - val_accuracy: 0.7975\n",
      "Epoch 96/100\n",
      "1/1 [==============================] - 0s 59ms/step - loss: 2.4319e-08 - accuracy: 0.7950 - val_loss: 2.4140e-08 - val_accuracy: 0.7975\n",
      "Epoch 97/100\n",
      "1/1 [==============================] - 0s 66ms/step - loss: 2.4319e-08 - accuracy: 0.7950 - val_loss: 2.4140e-08 - val_accuracy: 0.7975\n",
      "Epoch 98/100\n",
      "1/1 [==============================] - 0s 55ms/step - loss: 2.4319e-08 - accuracy: 0.7950 - val_loss: 2.4140e-08 - val_accuracy: 0.7975\n",
      "Epoch 99/100\n",
      "1/1 [==============================] - 0s 51ms/step - loss: 2.4319e-08 - accuracy: 0.7950 - val_loss: 2.4140e-08 - val_accuracy: 0.7975\n",
      "Epoch 100/100\n",
      "1/1 [==============================] - 0s 54ms/step - loss: 2.4319e-08 - accuracy: 0.7950 - val_loss: 2.4140e-08 - val_accuracy: 0.7975\n"
     ]
    },
    {
     "output_type": "execute_result",
     "data": {
      "text/plain": [
       "<tensorflow.python.keras.callbacks.History at 0x7fc3fe319d60>"
      ]
     },
     "metadata": {},
     "execution_count": 71
    }
   ],
   "source": [
    "model_classifier.compile(optimizer='sgd', loss='categorical_crossentropy',  metrics = ['accuracy'])\n",
    "\n",
    "# model is trained over 100 epochs\n",
    "model_classifier.fit(X_train,Y_train,epochs=100,validation_data=(X_test,Y_test),batch_size=X_train.shape[0])\n"
   ]
  },
  {
   "cell_type": "code",
   "execution_count": null,
   "metadata": {},
   "outputs": [],
   "source": []
  }
 ]
}