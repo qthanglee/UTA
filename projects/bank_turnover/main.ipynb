{
 "metadata": {
  "language_info": {
   "codemirror_mode": {
    "name": "ipython",
    "version": 3
   },
   "file_extension": ".py",
   "mimetype": "text/x-python",
   "name": "python",
   "nbconvert_exporter": "python",
   "pygments_lexer": "ipython3",
   "version": "3.8.2-final"
  },
  "orig_nbformat": 2,
  "kernelspec": {
   "name": "Python 3.8.2 64-bit",
   "display_name": "Python 3.8.2 64-bit",
   "metadata": {
    "interpreter": {
     "hash": "aee8b7b246df8f9039afb4144a1f6fd8d2ca17a180786b69acc140d282b71a49"
    }
   }
  }
 },
 "nbformat": 4,
 "nbformat_minor": 2,
 "cells": [
  {
   "cell_type": "code",
   "execution_count": 29,
   "metadata": {},
   "outputs": [],
   "source": [
    "import pandas as pd\n",
    "import numpy as np\n",
    "from sklearn.model_selection import train_test_split\n",
    "import tensorflow as tf\n",
    "from sklearn.preprocessing import StandardScaler\n",
    "from sklearn import preprocessing\n",
    "from tensorflow.keras.models import Sequential\n",
    "from tensorflow.keras.layers import Dense, Dropout, BatchNormalization\n",
    "from sklearn.metrics import accuracy_score, confusion_matrix, precision_score, recall_score, f1_score, precision_recall_curve, auc\n",
    "import matplotlib.pyplot as plt\n",
    "from tensorflow.keras import optimizers"
   ]
  },
  {
   "cell_type": "code",
   "execution_count": 30,
   "metadata": {},
   "outputs": [
    {
     "output_type": "execute_result",
     "data": {
      "text/plain": [
       "   RowNumber  CustomerId   Surname  CreditScore Geography  Gender  Age  \\\n",
       "0          1    15634602  Hargrave          619    France  Female   42   \n",
       "1          2    15647311      Hill          608     Spain  Female   41   \n",
       "2          3    15619304      Onio          502    France  Female   42   \n",
       "3          4    15701354      Boni          699    France  Female   39   \n",
       "4          5    15737888  Mitchell          850     Spain  Female   43   \n",
       "\n",
       "   Tenure    Balance  NumOfProducts  HasCrCard  IsActiveMember  \\\n",
       "0       2       0.00              1          1               1   \n",
       "1       1   83807.86              1          0               1   \n",
       "2       8  159660.80              3          1               0   \n",
       "3       1       0.00              2          0               0   \n",
       "4       2  125510.82              1          1               1   \n",
       "\n",
       "   EstimatedSalary  Exited  \n",
       "0        101348.88       1  \n",
       "1        112542.58       0  \n",
       "2        113931.57       1  \n",
       "3         93826.63       0  \n",
       "4         79084.10       0  "
      ],
      "text/html": "<div>\n<style scoped>\n    .dataframe tbody tr th:only-of-type {\n        vertical-align: middle;\n    }\n\n    .dataframe tbody tr th {\n        vertical-align: top;\n    }\n\n    .dataframe thead th {\n        text-align: right;\n    }\n</style>\n<table border=\"1\" class=\"dataframe\">\n  <thead>\n    <tr style=\"text-align: right;\">\n      <th></th>\n      <th>RowNumber</th>\n      <th>CustomerId</th>\n      <th>Surname</th>\n      <th>CreditScore</th>\n      <th>Geography</th>\n      <th>Gender</th>\n      <th>Age</th>\n      <th>Tenure</th>\n      <th>Balance</th>\n      <th>NumOfProducts</th>\n      <th>HasCrCard</th>\n      <th>IsActiveMember</th>\n      <th>EstimatedSalary</th>\n      <th>Exited</th>\n    </tr>\n  </thead>\n  <tbody>\n    <tr>\n      <th>0</th>\n      <td>1</td>\n      <td>15634602</td>\n      <td>Hargrave</td>\n      <td>619</td>\n      <td>France</td>\n      <td>Female</td>\n      <td>42</td>\n      <td>2</td>\n      <td>0.00</td>\n      <td>1</td>\n      <td>1</td>\n      <td>1</td>\n      <td>101348.88</td>\n      <td>1</td>\n    </tr>\n    <tr>\n      <th>1</th>\n      <td>2</td>\n      <td>15647311</td>\n      <td>Hill</td>\n      <td>608</td>\n      <td>Spain</td>\n      <td>Female</td>\n      <td>41</td>\n      <td>1</td>\n      <td>83807.86</td>\n      <td>1</td>\n      <td>0</td>\n      <td>1</td>\n      <td>112542.58</td>\n      <td>0</td>\n    </tr>\n    <tr>\n      <th>2</th>\n      <td>3</td>\n      <td>15619304</td>\n      <td>Onio</td>\n      <td>502</td>\n      <td>France</td>\n      <td>Female</td>\n      <td>42</td>\n      <td>8</td>\n      <td>159660.80</td>\n      <td>3</td>\n      <td>1</td>\n      <td>0</td>\n      <td>113931.57</td>\n      <td>1</td>\n    </tr>\n    <tr>\n      <th>3</th>\n      <td>4</td>\n      <td>15701354</td>\n      <td>Boni</td>\n      <td>699</td>\n      <td>France</td>\n      <td>Female</td>\n      <td>39</td>\n      <td>1</td>\n      <td>0.00</td>\n      <td>2</td>\n      <td>0</td>\n      <td>0</td>\n      <td>93826.63</td>\n      <td>0</td>\n    </tr>\n    <tr>\n      <th>4</th>\n      <td>5</td>\n      <td>15737888</td>\n      <td>Mitchell</td>\n      <td>850</td>\n      <td>Spain</td>\n      <td>Female</td>\n      <td>43</td>\n      <td>2</td>\n      <td>125510.82</td>\n      <td>1</td>\n      <td>1</td>\n      <td>1</td>\n      <td>79084.10</td>\n      <td>0</td>\n    </tr>\n  </tbody>\n</table>\n</div>"
     },
     "metadata": {},
     "execution_count": 30
    }
   ],
   "source": [
    "# Read dataset\n",
    "pdata = pd.read_csv(\"bank.csv\")\n",
    "pdata.head()"
   ]
  },
  {
   "cell_type": "code",
   "execution_count": 31,
   "metadata": {},
   "outputs": [
    {
     "output_type": "execute_result",
     "data": {
      "text/plain": [
       "RowNumber          10000\n",
       "CustomerId         10000\n",
       "Surname             2932\n",
       "CreditScore          460\n",
       "Geography              3\n",
       "Gender                 2\n",
       "Age                   70\n",
       "Tenure                11\n",
       "Balance             6382\n",
       "NumOfProducts          4\n",
       "HasCrCard              2\n",
       "IsActiveMember         2\n",
       "EstimatedSalary     9999\n",
       "Exited                 2\n",
       "dtype: int64"
      ]
     },
     "metadata": {},
     "execution_count": 31
    }
   ],
   "source": [
    "pdata.nunique()"
   ]
  },
  {
   "cell_type": "code",
   "execution_count": 32,
   "metadata": {},
   "outputs": [
    {
     "output_type": "execute_result",
     "data": {
      "text/plain": [
       "   CreditScore Geography  Gender  Age  Tenure    Balance  NumOfProducts  \\\n",
       "0          619    France  Female   42       2       0.00              1   \n",
       "1          608     Spain  Female   41       1   83807.86              1   \n",
       "2          502    France  Female   42       8  159660.80              3   \n",
       "3          699    France  Female   39       1       0.00              2   \n",
       "4          850     Spain  Female   43       2  125510.82              1   \n",
       "\n",
       "   HasCrCard  IsActiveMember  EstimatedSalary  Exited  \n",
       "0          1               1        101348.88       1  \n",
       "1          0               1        112542.58       0  \n",
       "2          1               0        113931.57       1  \n",
       "3          0               0         93826.63       0  \n",
       "4          1               1         79084.10       0  "
      ],
      "text/html": "<div>\n<style scoped>\n    .dataframe tbody tr th:only-of-type {\n        vertical-align: middle;\n    }\n\n    .dataframe tbody tr th {\n        vertical-align: top;\n    }\n\n    .dataframe thead th {\n        text-align: right;\n    }\n</style>\n<table border=\"1\" class=\"dataframe\">\n  <thead>\n    <tr style=\"text-align: right;\">\n      <th></th>\n      <th>CreditScore</th>\n      <th>Geography</th>\n      <th>Gender</th>\n      <th>Age</th>\n      <th>Tenure</th>\n      <th>Balance</th>\n      <th>NumOfProducts</th>\n      <th>HasCrCard</th>\n      <th>IsActiveMember</th>\n      <th>EstimatedSalary</th>\n      <th>Exited</th>\n    </tr>\n  </thead>\n  <tbody>\n    <tr>\n      <th>0</th>\n      <td>619</td>\n      <td>France</td>\n      <td>Female</td>\n      <td>42</td>\n      <td>2</td>\n      <td>0.00</td>\n      <td>1</td>\n      <td>1</td>\n      <td>1</td>\n      <td>101348.88</td>\n      <td>1</td>\n    </tr>\n    <tr>\n      <th>1</th>\n      <td>608</td>\n      <td>Spain</td>\n      <td>Female</td>\n      <td>41</td>\n      <td>1</td>\n      <td>83807.86</td>\n      <td>1</td>\n      <td>0</td>\n      <td>1</td>\n      <td>112542.58</td>\n      <td>0</td>\n    </tr>\n    <tr>\n      <th>2</th>\n      <td>502</td>\n      <td>France</td>\n      <td>Female</td>\n      <td>42</td>\n      <td>8</td>\n      <td>159660.80</td>\n      <td>3</td>\n      <td>1</td>\n      <td>0</td>\n      <td>113931.57</td>\n      <td>1</td>\n    </tr>\n    <tr>\n      <th>3</th>\n      <td>699</td>\n      <td>France</td>\n      <td>Female</td>\n      <td>39</td>\n      <td>1</td>\n      <td>0.00</td>\n      <td>2</td>\n      <td>0</td>\n      <td>0</td>\n      <td>93826.63</td>\n      <td>0</td>\n    </tr>\n    <tr>\n      <th>4</th>\n      <td>850</td>\n      <td>Spain</td>\n      <td>Female</td>\n      <td>43</td>\n      <td>2</td>\n      <td>125510.82</td>\n      <td>1</td>\n      <td>1</td>\n      <td>1</td>\n      <td>79084.10</td>\n      <td>0</td>\n    </tr>\n  </tbody>\n</table>\n</div>"
     },
     "metadata": {},
     "execution_count": 32
    }
   ],
   "source": [
    "# Drop the columns which are unique for all users\n",
    "pdata = pdata.drop([\"RowNumber\", \"CustomerId\", \"Surname\"], axis = 1)\n",
    "pdata.head()"
   ]
  },
  {
   "cell_type": "code",
   "execution_count": 34,
   "metadata": {},
   "outputs": [
    {
     "output_type": "stream",
     "name": "stdout",
     "text": [
      "<class 'pandas.core.frame.DataFrame'>\nRangeIndex: 10000 entries, 0 to 9999\nData columns (total 11 columns):\n #   Column           Non-Null Count  Dtype  \n---  ------           --------------  -----  \n 0   CreditScore      10000 non-null  int64  \n 1   Geography        10000 non-null  object \n 2   Gender           10000 non-null  object \n 3   Age              10000 non-null  int64  \n 4   Tenure           10000 non-null  int64  \n 5   Balance          10000 non-null  float64\n 6   NumOfProducts    10000 non-null  int64  \n 7   HasCrCard        10000 non-null  int64  \n 8   IsActiveMember   10000 non-null  int64  \n 9   EstimatedSalary  10000 non-null  float64\n 10  Exited           10000 non-null  int64  \ndtypes: float64(2), int64(7), object(2)\nmemory usage: 859.5+ KB\n"
     ]
    }
   ],
   "source": [
    "pdata.info()"
   ]
  },
  {
   "cell_type": "code",
   "execution_count": 35,
   "metadata": {},
   "outputs": [
    {
     "output_type": "execute_result",
     "data": {
      "text/plain": [
       "   CreditScore  Age  Tenure    Balance  NumOfProducts  HasCrCard  \\\n",
       "0          619   42       2       0.00              1          1   \n",
       "1          608   41       1   83807.86              1          0   \n",
       "2          502   42       8  159660.80              3          1   \n",
       "3          699   39       1       0.00              2          0   \n",
       "4          850   43       2  125510.82              1          1   \n",
       "\n",
       "   IsActiveMember  EstimatedSalary  Exited  Geography_France  \\\n",
       "0               1        101348.88       1                 1   \n",
       "1               1        112542.58       0                 0   \n",
       "2               0        113931.57       1                 1   \n",
       "3               0         93826.63       0                 1   \n",
       "4               1         79084.10       0                 0   \n",
       "\n",
       "   Geography_Germany  Geography_Spain  Gender_Female  Gender_Male  \n",
       "0                  0                0              1            0  \n",
       "1                  0                1              1            0  \n",
       "2                  0                0              1            0  \n",
       "3                  0                0              1            0  \n",
       "4                  0                1              1            0  "
      ],
      "text/html": "<div>\n<style scoped>\n    .dataframe tbody tr th:only-of-type {\n        vertical-align: middle;\n    }\n\n    .dataframe tbody tr th {\n        vertical-align: top;\n    }\n\n    .dataframe thead th {\n        text-align: right;\n    }\n</style>\n<table border=\"1\" class=\"dataframe\">\n  <thead>\n    <tr style=\"text-align: right;\">\n      <th></th>\n      <th>CreditScore</th>\n      <th>Age</th>\n      <th>Tenure</th>\n      <th>Balance</th>\n      <th>NumOfProducts</th>\n      <th>HasCrCard</th>\n      <th>IsActiveMember</th>\n      <th>EstimatedSalary</th>\n      <th>Exited</th>\n      <th>Geography_France</th>\n      <th>Geography_Germany</th>\n      <th>Geography_Spain</th>\n      <th>Gender_Female</th>\n      <th>Gender_Male</th>\n    </tr>\n  </thead>\n  <tbody>\n    <tr>\n      <th>0</th>\n      <td>619</td>\n      <td>42</td>\n      <td>2</td>\n      <td>0.00</td>\n      <td>1</td>\n      <td>1</td>\n      <td>1</td>\n      <td>101348.88</td>\n      <td>1</td>\n      <td>1</td>\n      <td>0</td>\n      <td>0</td>\n      <td>1</td>\n      <td>0</td>\n    </tr>\n    <tr>\n      <th>1</th>\n      <td>608</td>\n      <td>41</td>\n      <td>1</td>\n      <td>83807.86</td>\n      <td>1</td>\n      <td>0</td>\n      <td>1</td>\n      <td>112542.58</td>\n      <td>0</td>\n      <td>0</td>\n      <td>0</td>\n      <td>1</td>\n      <td>1</td>\n      <td>0</td>\n    </tr>\n    <tr>\n      <th>2</th>\n      <td>502</td>\n      <td>42</td>\n      <td>8</td>\n      <td>159660.80</td>\n      <td>3</td>\n      <td>1</td>\n      <td>0</td>\n      <td>113931.57</td>\n      <td>1</td>\n      <td>1</td>\n      <td>0</td>\n      <td>0</td>\n      <td>1</td>\n      <td>0</td>\n    </tr>\n    <tr>\n      <th>3</th>\n      <td>699</td>\n      <td>39</td>\n      <td>1</td>\n      <td>0.00</td>\n      <td>2</td>\n      <td>0</td>\n      <td>0</td>\n      <td>93826.63</td>\n      <td>0</td>\n      <td>1</td>\n      <td>0</td>\n      <td>0</td>\n      <td>1</td>\n      <td>0</td>\n    </tr>\n    <tr>\n      <th>4</th>\n      <td>850</td>\n      <td>43</td>\n      <td>2</td>\n      <td>125510.82</td>\n      <td>1</td>\n      <td>1</td>\n      <td>1</td>\n      <td>79084.10</td>\n      <td>0</td>\n      <td>0</td>\n      <td>0</td>\n      <td>1</td>\n      <td>1</td>\n      <td>0</td>\n    </tr>\n  </tbody>\n</table>\n</div>"
     },
     "metadata": {},
     "execution_count": 35
    }
   ],
   "source": [
    "# Convert categorical variables\n",
    "pdata = pd.get_dummies(pdata, columns=['Geography'])\n",
    "pdata = pd.get_dummies(pdata, columns=['Gender'])\n",
    "pdata.head()"
   ]
  },
  {
   "cell_type": "code",
   "execution_count": 36,
   "metadata": {},
   "outputs": [],
   "source": [
    "# Distinguish the features and target variable\n",
    "X =  pdata.drop(['Exited'], axis=1)\n",
    "Y = pdata[\"Exited\"]\n"
   ]
  },
  {
   "cell_type": "code",
   "execution_count": 37,
   "metadata": {},
   "outputs": [
    {
     "output_type": "stream",
     "name": "stdout",
     "text": [
      "(8000, 13)\n(2000, 13)\n(8000,)\n(2000,)\n"
     ]
    }
   ],
   "source": [
    "# Normalize the train and test data\n",
    "X_train, X_test, Y_train, Y_test = train_test_split(X, Y, test_size = 0.2, random_state = 7)\n",
    "\n",
    "X_train = preprocessing.normalize(X_train)\n",
    "print(X_train.shape)\n",
    "print(X_test.shape)\n",
    "print(Y_train.shape)\n",
    "print(Y_test.shape)\n",
    "# Feature scaling\n",
    "sc = StandardScaler()\n",
    "X_train = sc.fit_transform(X_train)\n",
    "X_test = sc.transform(X_test)"
   ]
  },
  {
   "cell_type": "code",
   "execution_count": 38,
   "metadata": {},
   "outputs": [],
   "source": [
    "# Initialize & build the model\n",
    "model_classifier = Sequential()\n",
    "\n",
    "# Add 2 hidden layers\n",
    "model_classifier.add(Dense(16 ,activation='relu',input_dim = 13))\n",
    "model_classifier.add(Dense(16,activation='tanh'))\n",
    "\n",
    "# Add output layer\n",
    "model_classifier.add(Dense(1, activation='sigmoid'))"
   ]
  },
  {
   "cell_type": "code",
   "execution_count": 42,
   "metadata": {},
   "outputs": [
    {
     "output_type": "stream",
     "name": "stdout",
     "text": [
      "Model: \"sequential_1\"\n",
      "_________________________________________________________________\n",
      "Layer (type)                 Output Shape              Param #   \n",
      "=================================================================\n",
      "dense_3 (Dense)              (None, 16)                224       \n",
      "_________________________________________________________________\n",
      "dense_4 (Dense)              (None, 16)                272       \n",
      "_________________________________________________________________\n",
      "dense_5 (Dense)              (None, 1)                 17        \n",
      "=================================================================\n",
      "Total params: 513\n",
      "Trainable params: 513\n",
      "Non-trainable params: 0\n",
      "_________________________________________________________________\n",
      "Epoch 1/100\n",
      "1/1 [==============================] - 0s 135ms/step - loss: 0.7235 - accuracy: 0.4320 - val_loss: 0.7643 - val_accuracy: 0.5000\n",
      "Epoch 2/100\n",
      "1/1 [==============================] - 0s 43ms/step - loss: 0.7199 - accuracy: 0.4378 - val_loss: 0.7620 - val_accuracy: 0.5015\n",
      "Epoch 3/100\n",
      "1/1 [==============================] - 0s 36ms/step - loss: 0.7163 - accuracy: 0.4448 - val_loss: 0.7595 - val_accuracy: 0.5025\n",
      "Epoch 4/100\n",
      "1/1 [==============================] - 0s 38ms/step - loss: 0.7129 - accuracy: 0.4485 - val_loss: 0.7572 - val_accuracy: 0.5035\n",
      "Epoch 5/100\n",
      "1/1 [==============================] - 0s 40ms/step - loss: 0.7095 - accuracy: 0.4551 - val_loss: 0.7522 - val_accuracy: 0.5060\n",
      "Epoch 6/100\n",
      "1/1 [==============================] - 0s 48ms/step - loss: 0.7062 - accuracy: 0.4614 - val_loss: 0.7495 - val_accuracy: 0.5085\n",
      "Epoch 7/100\n",
      "1/1 [==============================] - 0s 39ms/step - loss: 0.7029 - accuracy: 0.4685 - val_loss: 0.7468 - val_accuracy: 0.5105\n",
      "Epoch 8/100\n",
      "1/1 [==============================] - 0s 39ms/step - loss: 0.6997 - accuracy: 0.4780 - val_loss: 0.7432 - val_accuracy: 0.5150\n",
      "Epoch 9/100\n",
      "1/1 [==============================] - 0s 41ms/step - loss: 0.6966 - accuracy: 0.4830 - val_loss: 0.7405 - val_accuracy: 0.5195\n",
      "Epoch 10/100\n",
      "1/1 [==============================] - 0s 45ms/step - loss: 0.6936 - accuracy: 0.4908 - val_loss: 0.7372 - val_accuracy: 0.5265\n",
      "Epoch 11/100\n",
      "1/1 [==============================] - 0s 51ms/step - loss: 0.6906 - accuracy: 0.4966 - val_loss: 0.7335 - val_accuracy: 0.5320\n",
      "Epoch 12/100\n",
      "1/1 [==============================] - 0s 56ms/step - loss: 0.6876 - accuracy: 0.5046 - val_loss: 0.7305 - val_accuracy: 0.5395\n",
      "Epoch 13/100\n",
      "1/1 [==============================] - 0s 50ms/step - loss: 0.6848 - accuracy: 0.5120 - val_loss: 0.7264 - val_accuracy: 0.5460\n",
      "Epoch 14/100\n",
      "1/1 [==============================] - 0s 50ms/step - loss: 0.6820 - accuracy: 0.5209 - val_loss: 0.7216 - val_accuracy: 0.6340\n",
      "Epoch 15/100\n",
      "1/1 [==============================] - 0s 62ms/step - loss: 0.6792 - accuracy: 0.5296 - val_loss: 0.7186 - val_accuracy: 0.6410\n",
      "Epoch 16/100\n",
      "1/1 [==============================] - 0s 45ms/step - loss: 0.6765 - accuracy: 0.5416 - val_loss: 0.7157 - val_accuracy: 0.6485\n",
      "Epoch 17/100\n",
      "1/1 [==============================] - 0s 49ms/step - loss: 0.6739 - accuracy: 0.5545 - val_loss: 0.7129 - val_accuracy: 0.6535\n",
      "Epoch 18/100\n",
      "1/1 [==============================] - 0s 50ms/step - loss: 0.6713 - accuracy: 0.5707 - val_loss: 0.7092 - val_accuracy: 0.6600\n",
      "Epoch 19/100\n",
      "1/1 [==============================] - 0s 70ms/step - loss: 0.6687 - accuracy: 0.5935 - val_loss: 0.7076 - val_accuracy: 0.6635\n",
      "Epoch 20/100\n",
      "1/1 [==============================] - 0s 54ms/step - loss: 0.6662 - accuracy: 0.6143 - val_loss: 0.7042 - val_accuracy: 0.6705\n",
      "Epoch 21/100\n",
      "1/1 [==============================] - 0s 57ms/step - loss: 0.6638 - accuracy: 0.6321 - val_loss: 0.7006 - val_accuracy: 0.6765\n",
      "Epoch 22/100\n",
      "1/1 [==============================] - 0s 45ms/step - loss: 0.6614 - accuracy: 0.6474 - val_loss: 0.6988 - val_accuracy: 0.6805\n",
      "Epoch 23/100\n",
      "1/1 [==============================] - 0s 44ms/step - loss: 0.6591 - accuracy: 0.6746 - val_loss: 0.6958 - val_accuracy: 0.6840\n",
      "Epoch 24/100\n",
      "1/1 [==============================] - 0s 43ms/step - loss: 0.6568 - accuracy: 0.7029 - val_loss: 0.6937 - val_accuracy: 0.6880\n",
      "Epoch 25/100\n",
      "1/1 [==============================] - 0s 52ms/step - loss: 0.6545 - accuracy: 0.7274 - val_loss: 0.6914 - val_accuracy: 0.7450\n",
      "Epoch 26/100\n",
      "1/1 [==============================] - 0s 154ms/step - loss: 0.6523 - accuracy: 0.7431 - val_loss: 0.6893 - val_accuracy: 0.7460\n",
      "Epoch 27/100\n",
      "1/1 [==============================] - 0s 40ms/step - loss: 0.6501 - accuracy: 0.7542 - val_loss: 0.6871 - val_accuracy: 0.7465\n",
      "Epoch 28/100\n",
      "1/1 [==============================] - 0s 45ms/step - loss: 0.6480 - accuracy: 0.7601 - val_loss: 0.6842 - val_accuracy: 0.7480\n",
      "Epoch 29/100\n",
      "1/1 [==============================] - 0s 42ms/step - loss: 0.6459 - accuracy: 0.7653 - val_loss: 0.6828 - val_accuracy: 0.7485\n",
      "Epoch 30/100\n",
      "1/1 [==============================] - 0s 40ms/step - loss: 0.6439 - accuracy: 0.7703 - val_loss: 0.6812 - val_accuracy: 0.7500\n",
      "Epoch 31/100\n",
      "1/1 [==============================] - 0s 45ms/step - loss: 0.6419 - accuracy: 0.7736 - val_loss: 0.6797 - val_accuracy: 0.7510\n",
      "Epoch 32/100\n",
      "1/1 [==============================] - 0s 39ms/step - loss: 0.6399 - accuracy: 0.7751 - val_loss: 0.6791 - val_accuracy: 0.7510\n",
      "Epoch 33/100\n",
      "1/1 [==============================] - 0s 41ms/step - loss: 0.6380 - accuracy: 0.7774 - val_loss: 0.6773 - val_accuracy: 0.7525\n",
      "Epoch 34/100\n",
      "1/1 [==============================] - 0s 41ms/step - loss: 0.6361 - accuracy: 0.7785 - val_loss: 0.6761 - val_accuracy: 0.7535\n",
      "Epoch 35/100\n",
      "1/1 [==============================] - 0s 48ms/step - loss: 0.6342 - accuracy: 0.7797 - val_loss: 0.6748 - val_accuracy: 0.7535\n",
      "Epoch 36/100\n",
      "1/1 [==============================] - 0s 38ms/step - loss: 0.6324 - accuracy: 0.7810 - val_loss: 0.6727 - val_accuracy: 0.7550\n",
      "Epoch 37/100\n",
      "1/1 [==============================] - 0s 39ms/step - loss: 0.6306 - accuracy: 0.7816 - val_loss: 0.6712 - val_accuracy: 0.7555\n",
      "Epoch 38/100\n",
      "1/1 [==============================] - 0s 45ms/step - loss: 0.6289 - accuracy: 0.7830 - val_loss: 0.6696 - val_accuracy: 0.7560\n",
      "Epoch 39/100\n",
      "1/1 [==============================] - 0s 54ms/step - loss: 0.6272 - accuracy: 0.7836 - val_loss: 0.6682 - val_accuracy: 0.7580\n",
      "Epoch 40/100\n",
      "1/1 [==============================] - 0s 47ms/step - loss: 0.6255 - accuracy: 0.7839 - val_loss: 0.6658 - val_accuracy: 0.7600\n",
      "Epoch 41/100\n",
      "1/1 [==============================] - 0s 43ms/step - loss: 0.6238 - accuracy: 0.7841 - val_loss: 0.6642 - val_accuracy: 0.7615\n",
      "Epoch 42/100\n",
      "1/1 [==============================] - 0s 47ms/step - loss: 0.6222 - accuracy: 0.7844 - val_loss: 0.6633 - val_accuracy: 0.7620\n",
      "Epoch 43/100\n",
      "1/1 [==============================] - 0s 41ms/step - loss: 0.6206 - accuracy: 0.7846 - val_loss: 0.6620 - val_accuracy: 0.7630\n",
      "Epoch 44/100\n",
      "1/1 [==============================] - 0s 53ms/step - loss: 0.6190 - accuracy: 0.7850 - val_loss: 0.6615 - val_accuracy: 0.7635\n",
      "Epoch 45/100\n",
      "1/1 [==============================] - 0s 56ms/step - loss: 0.6175 - accuracy: 0.7855 - val_loss: 0.6609 - val_accuracy: 0.7635\n",
      "Epoch 46/100\n",
      "1/1 [==============================] - 0s 61ms/step - loss: 0.6160 - accuracy: 0.7856 - val_loss: 0.6597 - val_accuracy: 0.7650\n",
      "Epoch 47/100\n",
      "1/1 [==============================] - 0s 59ms/step - loss: 0.6145 - accuracy: 0.7855 - val_loss: 0.6581 - val_accuracy: 0.7650\n",
      "Epoch 48/100\n",
      "1/1 [==============================] - 0s 60ms/step - loss: 0.6130 - accuracy: 0.7856 - val_loss: 0.6568 - val_accuracy: 0.7660\n",
      "Epoch 49/100\n",
      "1/1 [==============================] - 0s 63ms/step - loss: 0.6116 - accuracy: 0.7859 - val_loss: 0.6549 - val_accuracy: 0.7665\n",
      "Epoch 50/100\n",
      "1/1 [==============================] - 0s 63ms/step - loss: 0.6102 - accuracy: 0.7861 - val_loss: 0.6539 - val_accuracy: 0.7670\n",
      "Epoch 51/100\n",
      "1/1 [==============================] - 0s 67ms/step - loss: 0.6088 - accuracy: 0.7866 - val_loss: 0.6531 - val_accuracy: 0.7675\n",
      "Epoch 52/100\n",
      "1/1 [==============================] - 0s 52ms/step - loss: 0.6074 - accuracy: 0.7870 - val_loss: 0.6520 - val_accuracy: 0.7680\n",
      "Epoch 53/100\n",
      "1/1 [==============================] - 0s 62ms/step - loss: 0.6061 - accuracy: 0.7875 - val_loss: 0.6511 - val_accuracy: 0.7690\n",
      "Epoch 54/100\n",
      "1/1 [==============================] - 0s 60ms/step - loss: 0.6048 - accuracy: 0.7878 - val_loss: 0.6496 - val_accuracy: 0.7700\n",
      "Epoch 55/100\n",
      "1/1 [==============================] - 0s 71ms/step - loss: 0.6035 - accuracy: 0.7878 - val_loss: 0.6480 - val_accuracy: 0.7705\n",
      "Epoch 56/100\n",
      "1/1 [==============================] - 0s 61ms/step - loss: 0.6022 - accuracy: 0.7883 - val_loss: 0.6469 - val_accuracy: 0.7710\n",
      "Epoch 57/100\n",
      "1/1 [==============================] - 0s 49ms/step - loss: 0.6010 - accuracy: 0.7884 - val_loss: 0.6467 - val_accuracy: 0.7715\n",
      "Epoch 58/100\n",
      "1/1 [==============================] - 0s 41ms/step - loss: 0.5998 - accuracy: 0.7886 - val_loss: 0.6455 - val_accuracy: 0.7715\n",
      "Epoch 59/100\n",
      "1/1 [==============================] - 0s 47ms/step - loss: 0.5986 - accuracy: 0.7887 - val_loss: 0.6450 - val_accuracy: 0.7710\n",
      "Epoch 60/100\n",
      "1/1 [==============================] - 0s 43ms/step - loss: 0.5974 - accuracy: 0.7889 - val_loss: 0.6441 - val_accuracy: 0.7710\n",
      "Epoch 61/100\n",
      "1/1 [==============================] - 0s 46ms/step - loss: 0.5962 - accuracy: 0.7890 - val_loss: 0.6433 - val_accuracy: 0.7710\n",
      "Epoch 62/100\n",
      "1/1 [==============================] - 0s 49ms/step - loss: 0.5951 - accuracy: 0.7889 - val_loss: 0.6432 - val_accuracy: 0.7710\n",
      "Epoch 63/100\n",
      "1/1 [==============================] - 0s 46ms/step - loss: 0.5940 - accuracy: 0.7889 - val_loss: 0.6420 - val_accuracy: 0.7725\n",
      "Epoch 64/100\n",
      "1/1 [==============================] - 0s 50ms/step - loss: 0.5929 - accuracy: 0.7889 - val_loss: 0.6413 - val_accuracy: 0.7735\n",
      "Epoch 65/100\n",
      "1/1 [==============================] - 0s 45ms/step - loss: 0.5918 - accuracy: 0.7887 - val_loss: 0.6411 - val_accuracy: 0.7740\n",
      "Epoch 66/100\n",
      "1/1 [==============================] - 0s 40ms/step - loss: 0.5907 - accuracy: 0.7891 - val_loss: 0.6404 - val_accuracy: 0.7740\n",
      "Epoch 67/100\n",
      "1/1 [==============================] - 0s 41ms/step - loss: 0.5897 - accuracy: 0.7893 - val_loss: 0.6397 - val_accuracy: 0.7740\n",
      "Epoch 68/100\n",
      "1/1 [==============================] - 0s 42ms/step - loss: 0.5887 - accuracy: 0.7893 - val_loss: 0.6391 - val_accuracy: 0.7740\n",
      "Epoch 69/100\n",
      "1/1 [==============================] - 0s 44ms/step - loss: 0.5876 - accuracy: 0.7896 - val_loss: 0.6381 - val_accuracy: 0.7745\n",
      "Epoch 70/100\n",
      "1/1 [==============================] - 0s 47ms/step - loss: 0.5866 - accuracy: 0.7896 - val_loss: 0.6379 - val_accuracy: 0.7750\n",
      "Epoch 71/100\n",
      "1/1 [==============================] - 0s 41ms/step - loss: 0.5857 - accuracy: 0.7897 - val_loss: 0.6371 - val_accuracy: 0.7750\n",
      "Epoch 72/100\n",
      "1/1 [==============================] - 0s 42ms/step - loss: 0.5847 - accuracy: 0.7899 - val_loss: 0.6368 - val_accuracy: 0.7750\n",
      "Epoch 73/100\n",
      "1/1 [==============================] - 0s 38ms/step - loss: 0.5838 - accuracy: 0.7900 - val_loss: 0.6363 - val_accuracy: 0.7745\n",
      "Epoch 74/100\n",
      "1/1 [==============================] - 0s 55ms/step - loss: 0.5828 - accuracy: 0.7901 - val_loss: 0.6359 - val_accuracy: 0.7745\n",
      "Epoch 75/100\n",
      "1/1 [==============================] - 0s 51ms/step - loss: 0.5819 - accuracy: 0.7903 - val_loss: 0.6354 - val_accuracy: 0.7745\n",
      "Epoch 76/100\n",
      "1/1 [==============================] - 0s 41ms/step - loss: 0.5810 - accuracy: 0.7904 - val_loss: 0.6350 - val_accuracy: 0.7745\n",
      "Epoch 77/100\n",
      "1/1 [==============================] - 0s 44ms/step - loss: 0.5801 - accuracy: 0.7905 - val_loss: 0.6350 - val_accuracy: 0.7745\n",
      "Epoch 78/100\n",
      "1/1 [==============================] - 0s 39ms/step - loss: 0.5792 - accuracy: 0.7905 - val_loss: 0.6345 - val_accuracy: 0.7750\n",
      "Epoch 79/100\n",
      "1/1 [==============================] - 0s 39ms/step - loss: 0.5784 - accuracy: 0.7910 - val_loss: 0.6336 - val_accuracy: 0.7745\n",
      "Epoch 80/100\n",
      "1/1 [==============================] - 0s 46ms/step - loss: 0.5775 - accuracy: 0.7911 - val_loss: 0.6333 - val_accuracy: 0.7745\n",
      "Epoch 81/100\n",
      "1/1 [==============================] - 0s 51ms/step - loss: 0.5767 - accuracy: 0.7911 - val_loss: 0.6330 - val_accuracy: 0.7745\n",
      "Epoch 82/100\n",
      "1/1 [==============================] - 0s 46ms/step - loss: 0.5759 - accuracy: 0.7911 - val_loss: 0.6324 - val_accuracy: 0.7745\n",
      "Epoch 83/100\n",
      "1/1 [==============================] - 0s 51ms/step - loss: 0.5751 - accuracy: 0.7911 - val_loss: 0.6319 - val_accuracy: 0.7745\n",
      "Epoch 84/100\n",
      "1/1 [==============================] - 0s 46ms/step - loss: 0.5743 - accuracy: 0.7911 - val_loss: 0.6316 - val_accuracy: 0.7745\n",
      "Epoch 85/100\n",
      "1/1 [==============================] - 0s 45ms/step - loss: 0.5735 - accuracy: 0.7914 - val_loss: 0.6310 - val_accuracy: 0.7750\n",
      "Epoch 86/100\n",
      "1/1 [==============================] - 0s 45ms/step - loss: 0.5727 - accuracy: 0.7915 - val_loss: 0.6305 - val_accuracy: 0.7755\n",
      "Epoch 87/100\n",
      "1/1 [==============================] - 0s 44ms/step - loss: 0.5719 - accuracy: 0.7915 - val_loss: 0.6302 - val_accuracy: 0.7755\n",
      "Epoch 88/100\n",
      "1/1 [==============================] - 0s 45ms/step - loss: 0.5712 - accuracy: 0.7916 - val_loss: 0.6298 - val_accuracy: 0.7755\n",
      "Epoch 89/100\n",
      "1/1 [==============================] - 0s 44ms/step - loss: 0.5705 - accuracy: 0.7918 - val_loss: 0.6297 - val_accuracy: 0.7750\n",
      "Epoch 90/100\n",
      "1/1 [==============================] - 0s 39ms/step - loss: 0.5697 - accuracy: 0.7919 - val_loss: 0.6295 - val_accuracy: 0.7750\n",
      "Epoch 91/100\n",
      "1/1 [==============================] - 0s 43ms/step - loss: 0.5690 - accuracy: 0.7920 - val_loss: 0.6292 - val_accuracy: 0.7760\n",
      "Epoch 92/100\n",
      "1/1 [==============================] - 0s 88ms/step - loss: 0.5683 - accuracy: 0.7920 - val_loss: 0.6283 - val_accuracy: 0.7760\n",
      "Epoch 93/100\n",
      "1/1 [==============================] - 0s 54ms/step - loss: 0.5676 - accuracy: 0.7921 - val_loss: 0.6281 - val_accuracy: 0.7760\n",
      "Epoch 94/100\n",
      "1/1 [==============================] - 0s 42ms/step - loss: 0.5669 - accuracy: 0.7921 - val_loss: 0.6282 - val_accuracy: 0.7760\n",
      "Epoch 95/100\n",
      "1/1 [==============================] - 0s 49ms/step - loss: 0.5663 - accuracy: 0.7922 - val_loss: 0.6277 - val_accuracy: 0.7765\n",
      "Epoch 96/100\n",
      "1/1 [==============================] - 0s 49ms/step - loss: 0.5656 - accuracy: 0.7922 - val_loss: 0.6274 - val_accuracy: 0.7770\n",
      "Epoch 97/100\n",
      "1/1 [==============================] - 0s 39ms/step - loss: 0.5649 - accuracy: 0.7922 - val_loss: 0.6264 - val_accuracy: 0.7770\n",
      "Epoch 98/100\n",
      "1/1 [==============================] - 0s 46ms/step - loss: 0.5643 - accuracy: 0.7922 - val_loss: 0.6258 - val_accuracy: 0.7775\n",
      "Epoch 99/100\n",
      "1/1 [==============================] - 0s 45ms/step - loss: 0.5636 - accuracy: 0.7922 - val_loss: 0.6254 - val_accuracy: 0.7775\n",
      "Epoch 100/100\n",
      "1/1 [==============================] - 0s 43ms/step - loss: 0.5630 - accuracy: 0.7925 - val_loss: 0.6253 - val_accuracy: 0.7770\n"
     ]
    },
    {
     "output_type": "execute_result",
     "data": {
      "text/plain": [
       "<tensorflow.python.keras.callbacks.History at 0x7f983a552910>"
      ]
     },
     "metadata": {},
     "execution_count": 42
    }
   ],
   "source": [
    "model_classifier.compile(optimizer='sgd', loss='binary_crossentropy',  metrics = ['accuracy'])\n",
    "model_classifier.summary()\n",
    "\n",
    "# model is trained over 100 epochs\n",
    "model_classifier.fit(X_train,Y_train,epochs=100,validation_data=(X_test,Y_test),batch_size=X_train.shape[0])\n"
   ]
  },
  {
   "cell_type": "code",
   "execution_count": 43,
   "metadata": {},
   "outputs": [],
   "source": [
    "Y_pred = model_classifier.predict(X_test)"
   ]
  },
  {
   "cell_type": "code",
   "execution_count": 45,
   "metadata": {},
   "outputs": [
    {
     "output_type": "stream",
     "name": "stdout",
     "text": [
      "63/63 [==============================] - 0s 1ms/step - loss: 0.6253 - accuracy: 0.7770\n"
     ]
    }
   ],
   "source": [
    "results = model_classifier.evaluate(X_test, Y_test.values)"
   ]
  },
  {
   "cell_type": "code",
   "execution_count": 46,
   "metadata": {},
   "outputs": [
    {
     "output_type": "stream",
     "name": "stdout",
     "text": [
      "['loss', 'accuracy']\n[0.6253044009208679, 0.7770000100135803]\n"
     ]
    }
   ],
   "source": [
    "print(model_classifier.metrics_names)\n",
    "print(results)  "
   ]
  },
  {
   "cell_type": "code",
   "execution_count": 47,
   "metadata": {},
   "outputs": [
    {
     "output_type": "stream",
     "name": "stdout",
     "text": [
      "63/63 [==============================] - 0s 1ms/step - loss: 0.6253 - accuracy: 0.7770\n",
      "Accuracy Model1 (Dropout): 0.7770000100135803\n",
      "Recall_score: 0.014598540145985401\n",
      "Precision_score: 0.1276595744680851\n",
      "F-score: 0.026200873362445413\n"
     ]
    },
    {
     "output_type": "execute_result",
     "data": {
      "text/plain": [
       "array([[1548,   41],\n",
       "       [ 405,    6]])"
      ]
     },
     "metadata": {},
     "execution_count": 47
    }
   ],
   "source": [
    "# Confusion Matrix\n",
    "Y_pred_cls = model_classifier.predict_classes(X_test, batch_size=200, verbose=0)\n",
    "print('Accuracy Model1 (Dropout): '+ str(model_classifier.evaluate(X_test,Y_test.values)[1]))\n",
    "print('Recall_score: ' + str(recall_score(Y_test.values,Y_pred_cls)))\n",
    "print('Precision_score: ' + str(precision_score(Y_test.values, Y_pred_cls)))\n",
    "print('F-score: ' + str(f1_score(Y_test.values,Y_pred_cls)))\n",
    "confusion_matrix(Y_test.values, Y_pred_cls)"
   ]
  },
  {
   "cell_type": "code",
   "execution_count": null,
   "metadata": {},
   "outputs": [],
   "source": []
  }
 ]
}