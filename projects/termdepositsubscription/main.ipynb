{
 "metadata": {
  "language_info": {
   "codemirror_mode": {
    "name": "ipython",
    "version": 3
   },
   "file_extension": ".py",
   "mimetype": "text/x-python",
   "name": "python",
   "nbconvert_exporter": "python",
   "pygments_lexer": "ipython3",
   "version": 3
  },
  "orig_nbformat": 2,
  "kernelspec": {
   "name": "python_defaultSpec_1595794145049",
   "display_name": "Python 3.8.2 64-bit"
  }
 },
 "nbformat": 4,
 "nbformat_minor": 2,
 "cells": [
  {
   "cell_type": "markdown",
   "metadata": {},
   "source": []
  },
  {
   "cell_type": "markdown",
   "metadata": {},
   "source": [
    "# Univariate, Missing Values and Outliers"
   ]
  },
  {
   "cell_type": "code",
   "execution_count": 3,
   "metadata": {
    "tags": []
   },
   "outputs": [],
   "source": [
    "import numpy as np\n",
    "import pandas as pd\n",
    "import matplotlib.pyplot as plt\n",
    "%matplotlib inline\n",
    "import seaborn as sns"
   ]
  },
  {
   "cell_type": "code",
   "execution_count": 7,
   "metadata": {
    "tags": []
   },
   "outputs": [
    {
     "output_type": "stream",
     "name": "stdout",
     "text": "<class 'pandas.core.frame.DataFrame'>\nRangeIndex: 45211 entries, 0 to 45210\nData columns (total 17 columns):\nage          45211 non-null int64\njob          45211 non-null object\nmarital      45211 non-null object\neducation    45211 non-null object\ndefault      45211 non-null object\nbalance      45211 non-null int64\nhousing      45211 non-null object\nloan         45211 non-null object\ncontact      45211 non-null object\nday          45211 non-null int64\nmonth        45211 non-null object\nduration     45211 non-null int64\ncampaign     45211 non-null int64\npdays        45211 non-null int64\nprevious     45211 non-null int64\npoutcome     45211 non-null object\nTarget       45211 non-null object\ndtypes: int64(7), object(10)\nmemory usage: 5.9+ MB\n"
    },
    {
     "output_type": "execute_result",
     "data": {
      "text/plain": "<bound method NDFrame.describe of        age            job   marital  education default  balance housing loan  \\\n0       58     management   married   tertiary      no     2143     yes   no   \n1       44     technician    single  secondary      no       29     yes   no   \n2       33   entrepreneur   married  secondary      no        2     yes  yes   \n3       47    blue-collar   married    unknown      no     1506     yes   no   \n4       33        unknown    single    unknown      no        1      no   no   \n5       35     management   married   tertiary      no      231     yes   no   \n6       28     management    single   tertiary      no      447     yes  yes   \n7       42   entrepreneur  divorced   tertiary     yes        2     yes   no   \n8       58        retired   married    primary      no      121     yes   no   \n9       43     technician    single  secondary      no      593     yes   no   \n10      41         admin.  divorced  secondary      no      270     yes   no   \n11      29         admin.    single  secondary      no      390     yes   no   \n12      53     technician   married  secondary      no        6     yes   no   \n13      58     technician   married    unknown      no       71     yes   no   \n14      57       services   married  secondary      no      162     yes   no   \n15      51        retired   married    primary      no      229     yes   no   \n16      45         admin.    single    unknown      no       13     yes   no   \n17      57    blue-collar   married    primary      no       52     yes   no   \n18      60        retired   married    primary      no       60     yes   no   \n19      33       services   married  secondary      no        0     yes   no   \n20      28    blue-collar   married  secondary      no      723     yes  yes   \n21      56     management   married   tertiary      no      779     yes   no   \n22      32    blue-collar    single    primary      no       23     yes  yes   \n23      25       services   married  secondary      no       50     yes   no   \n24      40        retired   married    primary      no        0     yes  yes   \n25      44         admin.   married  secondary      no     -372     yes   no   \n26      39     management    single   tertiary      no      255     yes   no   \n27      52   entrepreneur   married  secondary      no      113     yes  yes   \n28      46     management    single  secondary      no     -246     yes   no   \n29      36     technician    single  secondary      no      265     yes  yes   \n...    ...            ...       ...        ...     ...      ...     ...  ...   \n45181   46    blue-collar   married  secondary      no     6879      no   no   \n45182   34     technician   married  secondary      no      133      no   no   \n45183   70        retired   married    primary      no      324      no   no   \n45184   63        retired   married  secondary      no     1495      no   no   \n45185   60       services   married   tertiary      no     4256     yes   no   \n45186   59        unknown   married    unknown      no     1500      no   no   \n45187   32       services    single  secondary      no     1168     yes   no   \n45188   29     management    single  secondary      no      703     yes   no   \n45189   25       services    single  secondary      no      199      no   no   \n45190   32    blue-collar   married  secondary      no      136      no   no   \n45191   75        retired  divorced   tertiary      no     3810     yes   no   \n45192   29     management    single   tertiary      no      765      no   no   \n45193   28  self-employed    single   tertiary      no      159      no   no   \n45194   59     management   married   tertiary      no      138     yes  yes   \n45195   68        retired   married  secondary      no     1146      no   no   \n45196   25        student    single  secondary      no      358      no   no   \n45197   36     management    single  secondary      no     1511     yes   no   \n45198   37     management   married   tertiary      no     1428      no   no   \n45199   34    blue-collar    single  secondary      no     1475     yes   no   \n45200   38     technician   married  secondary      no      557     yes   no   \n45201   53     management   married   tertiary      no      583      no   no   \n45202   34         admin.    single  secondary      no      557      no   no   \n45203   23        student    single   tertiary      no      113      no   no   \n45204   73        retired   married  secondary      no     2850      no   no   \n45205   25     technician    single  secondary      no      505      no  yes   \n45206   51     technician   married   tertiary      no      825      no   no   \n45207   71        retired  divorced    primary      no     1729      no   no   \n45208   72        retired   married  secondary      no     5715      no   no   \n45209   57    blue-collar   married  secondary      no      668      no   no   \n45210   37   entrepreneur   married  secondary      no     2971      no   no   \n\n         contact  day month  duration  campaign  pdays  previous poutcome  \\\n0        unknown    5   may       261         1     -1         0  unknown   \n1        unknown    5   may       151         1     -1         0  unknown   \n2        unknown    5   may        76         1     -1         0  unknown   \n3        unknown    5   may        92         1     -1         0  unknown   \n4        unknown    5   may       198         1     -1         0  unknown   \n5        unknown    5   may       139         1     -1         0  unknown   \n6        unknown    5   may       217         1     -1         0  unknown   \n7        unknown    5   may       380         1     -1         0  unknown   \n8        unknown    5   may        50         1     -1         0  unknown   \n9        unknown    5   may        55         1     -1         0  unknown   \n10       unknown    5   may       222         1     -1         0  unknown   \n11       unknown    5   may       137         1     -1         0  unknown   \n12       unknown    5   may       517         1     -1         0  unknown   \n13       unknown    5   may        71         1     -1         0  unknown   \n14       unknown    5   may       174         1     -1         0  unknown   \n15       unknown    5   may       353         1     -1         0  unknown   \n16       unknown    5   may        98         1     -1         0  unknown   \n17       unknown    5   may        38         1     -1         0  unknown   \n18       unknown    5   may       219         1     -1         0  unknown   \n19       unknown    5   may        54         1     -1         0  unknown   \n20       unknown    5   may       262         1     -1         0  unknown   \n21       unknown    5   may       164         1     -1         0  unknown   \n22       unknown    5   may       160         1     -1         0  unknown   \n23       unknown    5   may       342         1     -1         0  unknown   \n24       unknown    5   may       181         1     -1         0  unknown   \n25       unknown    5   may       172         1     -1         0  unknown   \n26       unknown    5   may       296         1     -1         0  unknown   \n27       unknown    5   may       127         1     -1         0  unknown   \n28       unknown    5   may       255         2     -1         0  unknown   \n29       unknown    5   may       348         1     -1         0  unknown   \n...          ...  ...   ...       ...       ...    ...       ...      ...   \n45181   cellular   15   nov        74         2    118         3  failure   \n45182   cellular   15   nov       401         2    187         5  success   \n45183   cellular   15   nov        78         1     96         7  success   \n45184   cellular   16   nov       138         1     22         5  success   \n45185   cellular   16   nov       200         1     92         4  success   \n45186   cellular   16   nov       280         1    104         2  failure   \n45187   cellular   16   nov       411         1     -1         0  unknown   \n45188   cellular   16   nov       236         1    550         2  success   \n45189   cellular   16   nov       173         1     92         5  failure   \n45190   cellular   16   nov       206         1    188         3  success   \n45191   cellular   16   nov       262         1    183         1  failure   \n45192   cellular   16   nov       238         1     -1         0  unknown   \n45193   cellular   16   nov       449         2     33         4  success   \n45194   cellular   16   nov       162         2    187         5  failure   \n45195   cellular   16   nov       212         1    187         6  success   \n45196   cellular   16   nov       330         1     -1         0  unknown   \n45197   cellular   16   nov       270         1     -1         0  unknown   \n45198   cellular   16   nov       333         2     -1         0  unknown   \n45199   cellular   16   nov      1166         3    530        12    other   \n45200   cellular   16   nov      1556         4     -1         0  unknown   \n45201   cellular   17   nov       226         1    184         4  success   \n45202   cellular   17   nov       224         1     -1         0  unknown   \n45203   cellular   17   nov       266         1     -1         0  unknown   \n45204   cellular   17   nov       300         1     40         8  failure   \n45205   cellular   17   nov       386         2     -1         0  unknown   \n45206   cellular   17   nov       977         3     -1         0  unknown   \n45207   cellular   17   nov       456         2     -1         0  unknown   \n45208   cellular   17   nov      1127         5    184         3  success   \n45209  telephone   17   nov       508         4     -1         0  unknown   \n45210   cellular   17   nov       361         2    188        11    other   \n\n      Target  \n0         no  \n1         no  \n2         no  \n3         no  \n4         no  \n5         no  \n6         no  \n7         no  \n8         no  \n9         no  \n10        no  \n11        no  \n12        no  \n13        no  \n14        no  \n15        no  \n16        no  \n17        no  \n18        no  \n19        no  \n20        no  \n21        no  \n22        no  \n23        no  \n24        no  \n25        no  \n26        no  \n27        no  \n28        no  \n29        no  \n...      ...  \n45181     no  \n45182    yes  \n45183     no  \n45184     no  \n45185    yes  \n45186     no  \n45187    yes  \n45188    yes  \n45189     no  \n45190    yes  \n45191    yes  \n45192    yes  \n45193    yes  \n45194     no  \n45195    yes  \n45196    yes  \n45197    yes  \n45198     no  \n45199     no  \n45200    yes  \n45201    yes  \n45202    yes  \n45203    yes  \n45204    yes  \n45205    yes  \n45206    yes  \n45207    yes  \n45208    yes  \n45209     no  \n45210     no  \n\n[45211 rows x 17 columns]>"
     },
     "metadata": {},
     "execution_count": 7
    }
   ],
   "source": [
    "# load data and get some insight\n",
    "pdata = pd.read_csv(\"bank-full.csv\")\n",
    "pdata.head()\n",
    "pdata.info()\n",
    "pdata.describe"
   ]
  },
  {
   "cell_type": "markdown",
   "metadata": {},
   "source": [
    "# Bivariate"
   ]
  },
  {
   "cell_type": "markdown",
   "metadata": {},
   "source": [
    "# Prepare Data for analysis\t"
   ]
  },
  {
   "cell_type": "markdown",
   "metadata": {},
   "source": [
    "# Log Reg & Decision Tree"
   ]
  },
  {
   "cell_type": "markdown",
   "metadata": {},
   "source": [
    "# Ensemble Model (3 atleast)\t"
   ]
  },
  {
   "cell_type": "markdown",
   "metadata": {},
   "source": [
    "# Conclusion"
   ]
  }
 ]
}