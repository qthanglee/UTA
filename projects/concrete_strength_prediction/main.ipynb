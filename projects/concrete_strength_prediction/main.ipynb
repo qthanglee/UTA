{
 "metadata": {
  "language_info": {
   "codemirror_mode": {
    "name": "ipython",
    "version": 3
   },
   "file_extension": ".py",
   "mimetype": "text/x-python",
   "name": "python",
   "nbconvert_exporter": "python",
   "pygments_lexer": "ipython3",
   "version": "3.8.2-final"
  },
  "orig_nbformat": 2,
  "kernelspec": {
   "name": "python_defaultSpec_1598319568876",
   "display_name": "Python 3.8.2 64-bit"
  }
 },
 "nbformat": 4,
 "nbformat_minor": 2,
 "cells": [
  {
   "cell_type": "markdown",
   "metadata": {},
   "source": [
    "1. Import packages"
   ]
  },
  {
   "cell_type": "code",
   "execution_count": 2,
   "metadata": {},
   "outputs": [],
   "source": [
    "%matplotlib inline\n",
    "import pandas as pd\n",
    "import numpy as np\n",
    "import random\n",
    "import seaborn as sns\n",
    "import matplotlib.pyplot as plt\n",
    "from datetime import datetime"
   ]
  },
  {
   "cell_type": "code",
   "execution_count": 3,
   "metadata": {},
   "outputs": [
    {
     "output_type": "execute_result",
     "data": {
      "text/plain": "            cement         slag          ash        water  superplastic  \\\ncount  1030.000000  1030.000000  1030.000000  1030.000000   1030.000000   \nmean    281.167864    73.895825    54.188350   181.567282      6.204660   \nstd     104.506364    86.279342    63.997004    21.354219      5.973841   \nmin     102.000000     0.000000     0.000000   121.800000      0.000000   \n25%     192.375000     0.000000     0.000000   164.900000      0.000000   \n50%     272.900000    22.000000     0.000000   185.000000      6.400000   \n75%     350.000000   142.950000   118.300000   192.000000     10.200000   \nmax     540.000000   359.400000   200.100000   247.000000     32.200000   \n\n         coarseagg      fineagg          age     strength  \ncount  1030.000000  1030.000000  1030.000000  1030.000000  \nmean    972.918932   773.580485    45.662136    35.817961  \nstd      77.753954    80.175980    63.169912    16.705742  \nmin     801.000000   594.000000     1.000000     2.330000  \n25%     932.000000   730.950000     7.000000    23.710000  \n50%     968.000000   779.500000    28.000000    34.445000  \n75%    1029.400000   824.000000    56.000000    46.135000  \nmax    1145.000000   992.600000   365.000000    82.600000  ",
      "text/html": "<div>\n<style scoped>\n    .dataframe tbody tr th:only-of-type {\n        vertical-align: middle;\n    }\n\n    .dataframe tbody tr th {\n        vertical-align: top;\n    }\n\n    .dataframe thead th {\n        text-align: right;\n    }\n</style>\n<table border=\"1\" class=\"dataframe\">\n  <thead>\n    <tr style=\"text-align: right;\">\n      <th></th>\n      <th>cement</th>\n      <th>slag</th>\n      <th>ash</th>\n      <th>water</th>\n      <th>superplastic</th>\n      <th>coarseagg</th>\n      <th>fineagg</th>\n      <th>age</th>\n      <th>strength</th>\n    </tr>\n  </thead>\n  <tbody>\n    <tr>\n      <th>count</th>\n      <td>1030.000000</td>\n      <td>1030.000000</td>\n      <td>1030.000000</td>\n      <td>1030.000000</td>\n      <td>1030.000000</td>\n      <td>1030.000000</td>\n      <td>1030.000000</td>\n      <td>1030.000000</td>\n      <td>1030.000000</td>\n    </tr>\n    <tr>\n      <th>mean</th>\n      <td>281.167864</td>\n      <td>73.895825</td>\n      <td>54.188350</td>\n      <td>181.567282</td>\n      <td>6.204660</td>\n      <td>972.918932</td>\n      <td>773.580485</td>\n      <td>45.662136</td>\n      <td>35.817961</td>\n    </tr>\n    <tr>\n      <th>std</th>\n      <td>104.506364</td>\n      <td>86.279342</td>\n      <td>63.997004</td>\n      <td>21.354219</td>\n      <td>5.973841</td>\n      <td>77.753954</td>\n      <td>80.175980</td>\n      <td>63.169912</td>\n      <td>16.705742</td>\n    </tr>\n    <tr>\n      <th>min</th>\n      <td>102.000000</td>\n      <td>0.000000</td>\n      <td>0.000000</td>\n      <td>121.800000</td>\n      <td>0.000000</td>\n      <td>801.000000</td>\n      <td>594.000000</td>\n      <td>1.000000</td>\n      <td>2.330000</td>\n    </tr>\n    <tr>\n      <th>25%</th>\n      <td>192.375000</td>\n      <td>0.000000</td>\n      <td>0.000000</td>\n      <td>164.900000</td>\n      <td>0.000000</td>\n      <td>932.000000</td>\n      <td>730.950000</td>\n      <td>7.000000</td>\n      <td>23.710000</td>\n    </tr>\n    <tr>\n      <th>50%</th>\n      <td>272.900000</td>\n      <td>22.000000</td>\n      <td>0.000000</td>\n      <td>185.000000</td>\n      <td>6.400000</td>\n      <td>968.000000</td>\n      <td>779.500000</td>\n      <td>28.000000</td>\n      <td>34.445000</td>\n    </tr>\n    <tr>\n      <th>75%</th>\n      <td>350.000000</td>\n      <td>142.950000</td>\n      <td>118.300000</td>\n      <td>192.000000</td>\n      <td>10.200000</td>\n      <td>1029.400000</td>\n      <td>824.000000</td>\n      <td>56.000000</td>\n      <td>46.135000</td>\n    </tr>\n    <tr>\n      <th>max</th>\n      <td>540.000000</td>\n      <td>359.400000</td>\n      <td>200.100000</td>\n      <td>247.000000</td>\n      <td>32.200000</td>\n      <td>1145.000000</td>\n      <td>992.600000</td>\n      <td>365.000000</td>\n      <td>82.600000</td>\n    </tr>\n  </tbody>\n</table>\n</div>"
     },
     "metadata": {},
     "execution_count": 3
    }
   ],
   "source": [
    "pdata = pd.read_csv(\"concrete.csv\")\n",
    "pdata.describe()"
   ]
  },
  {
   "cell_type": "code",
   "execution_count": 4,
   "metadata": {},
   "outputs": [
    {
     "output_type": "execute_result",
     "data": {
      "text/plain": "   cement   slag    ash  water  superplastic  coarseagg  fineagg  age  \\\n0   141.3  212.0    0.0  203.5           0.0      971.8    748.5   28   \n1   168.9   42.2  124.3  158.3          10.8     1080.8    796.2   14   \n2   250.0    0.0   95.7  187.4           5.5      956.9    861.2   28   \n3   266.0  114.0    0.0  228.0           0.0      932.0    670.0   28   \n4   154.8  183.4    0.0  193.3           9.1     1047.4    696.7   28   \n\n   strength  \n0     29.89  \n1     23.51  \n2     29.22  \n3     45.85  \n4     18.29  ",
      "text/html": "<div>\n<style scoped>\n    .dataframe tbody tr th:only-of-type {\n        vertical-align: middle;\n    }\n\n    .dataframe tbody tr th {\n        vertical-align: top;\n    }\n\n    .dataframe thead th {\n        text-align: right;\n    }\n</style>\n<table border=\"1\" class=\"dataframe\">\n  <thead>\n    <tr style=\"text-align: right;\">\n      <th></th>\n      <th>cement</th>\n      <th>slag</th>\n      <th>ash</th>\n      <th>water</th>\n      <th>superplastic</th>\n      <th>coarseagg</th>\n      <th>fineagg</th>\n      <th>age</th>\n      <th>strength</th>\n    </tr>\n  </thead>\n  <tbody>\n    <tr>\n      <th>0</th>\n      <td>141.3</td>\n      <td>212.0</td>\n      <td>0.0</td>\n      <td>203.5</td>\n      <td>0.0</td>\n      <td>971.8</td>\n      <td>748.5</td>\n      <td>28</td>\n      <td>29.89</td>\n    </tr>\n    <tr>\n      <th>1</th>\n      <td>168.9</td>\n      <td>42.2</td>\n      <td>124.3</td>\n      <td>158.3</td>\n      <td>10.8</td>\n      <td>1080.8</td>\n      <td>796.2</td>\n      <td>14</td>\n      <td>23.51</td>\n    </tr>\n    <tr>\n      <th>2</th>\n      <td>250.0</td>\n      <td>0.0</td>\n      <td>95.7</td>\n      <td>187.4</td>\n      <td>5.5</td>\n      <td>956.9</td>\n      <td>861.2</td>\n      <td>28</td>\n      <td>29.22</td>\n    </tr>\n    <tr>\n      <th>3</th>\n      <td>266.0</td>\n      <td>114.0</td>\n      <td>0.0</td>\n      <td>228.0</td>\n      <td>0.0</td>\n      <td>932.0</td>\n      <td>670.0</td>\n      <td>28</td>\n      <td>45.85</td>\n    </tr>\n    <tr>\n      <th>4</th>\n      <td>154.8</td>\n      <td>183.4</td>\n      <td>0.0</td>\n      <td>193.3</td>\n      <td>9.1</td>\n      <td>1047.4</td>\n      <td>696.7</td>\n      <td>28</td>\n      <td>18.29</td>\n    </tr>\n  </tbody>\n</table>\n</div>"
     },
     "metadata": {},
     "execution_count": 4
    }
   ],
   "source": [
    "pdata.head()"
   ]
  },
  {
   "cell_type": "code",
   "execution_count": null,
   "metadata": {},
   "outputs": [],
   "source": []
  }
 ]
}