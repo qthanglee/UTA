{
 "cells": [
  {
   "cell_type": "code",
   "execution_count": 14,
   "metadata": {
    "tags": []
   },
   "outputs": [
    {
     "output_type": "stream",
     "name": "stdout",
     "text": "<class 'pandas.core.frame.DataFrame'>\nRangeIndex: 5000 entries, 0 to 4999\nData columns (total 14 columns):\nID                    5000 non-null int64\nAge                   5000 non-null int64\nExperience            5000 non-null int64\nIncome                5000 non-null int64\nZIP Code              5000 non-null int64\nFamily                5000 non-null int64\nCCAvg                 5000 non-null float64\nEducation             5000 non-null int64\nMortgage              5000 non-null int64\nPersonal Loan         5000 non-null int64\nSecurities Account    5000 non-null int64\nCD Account            5000 non-null int64\nOnline                5000 non-null int64\nCreditCard            5000 non-null int64\ndtypes: float64(1), int64(13)\nmemory usage: 547.0 KB\n"
    }
   ],
   "source": [
    "#Import the datasets and libraries, check datatype, statistical summary,shape,null values or incorrect imputation.\n",
    "import numpy as np\n",
    "import pandas as pd\n",
    "import matplotlib.pyplot as plt\n",
    "%matplotlib inline\n",
    "import seaborn as sns\n",
    "# Load data\n",
    "pdata = pd.read_csv('Bank_Personal_Loan_Modelling.csv')\n",
    "# Check datatype\n",
    "pdata.info()\n"
   ]
  },
  {
   "cell_type": "code",
   "execution_count": 10,
   "metadata": {},
   "outputs": [
    {
     "output_type": "execute_result",
     "data": {
      "text/plain": "   ID  Age  Experience     ...      CD Account  Online  CreditCard\n0   1   25           1     ...               0       0           0\n1   2   45          19     ...               0       0           0\n2   3   39          15     ...               0       0           0\n3   4   35           9     ...               0       0           0\n4   5   35           8     ...               0       0           1\n\n[5 rows x 14 columns]",
      "text/html": "<div>\n<style scoped>\n    .dataframe tbody tr th:only-of-type {\n        vertical-align: middle;\n    }\n\n    .dataframe tbody tr th {\n        vertical-align: top;\n    }\n\n    .dataframe thead th {\n        text-align: right;\n    }\n</style>\n<table border=\"1\" class=\"dataframe\">\n  <thead>\n    <tr style=\"text-align: right;\">\n      <th></th>\n      <th>ID</th>\n      <th>Age</th>\n      <th>Experience</th>\n      <th>Income</th>\n      <th>ZIP Code</th>\n      <th>Family</th>\n      <th>CCAvg</th>\n      <th>Education</th>\n      <th>Mortgage</th>\n      <th>Personal Loan</th>\n      <th>Securities Account</th>\n      <th>CD Account</th>\n      <th>Online</th>\n      <th>CreditCard</th>\n    </tr>\n  </thead>\n  <tbody>\n    <tr>\n      <th>0</th>\n      <td>1</td>\n      <td>25</td>\n      <td>1</td>\n      <td>49</td>\n      <td>91107</td>\n      <td>4</td>\n      <td>1.6</td>\n      <td>1</td>\n      <td>0</td>\n      <td>0</td>\n      <td>1</td>\n      <td>0</td>\n      <td>0</td>\n      <td>0</td>\n    </tr>\n    <tr>\n      <th>1</th>\n      <td>2</td>\n      <td>45</td>\n      <td>19</td>\n      <td>34</td>\n      <td>90089</td>\n      <td>3</td>\n      <td>1.5</td>\n      <td>1</td>\n      <td>0</td>\n      <td>0</td>\n      <td>1</td>\n      <td>0</td>\n      <td>0</td>\n      <td>0</td>\n    </tr>\n    <tr>\n      <th>2</th>\n      <td>3</td>\n      <td>39</td>\n      <td>15</td>\n      <td>11</td>\n      <td>94720</td>\n      <td>1</td>\n      <td>1.0</td>\n      <td>1</td>\n      <td>0</td>\n      <td>0</td>\n      <td>0</td>\n      <td>0</td>\n      <td>0</td>\n      <td>0</td>\n    </tr>\n    <tr>\n      <th>3</th>\n      <td>4</td>\n      <td>35</td>\n      <td>9</td>\n      <td>100</td>\n      <td>94112</td>\n      <td>1</td>\n      <td>2.7</td>\n      <td>2</td>\n      <td>0</td>\n      <td>0</td>\n      <td>0</td>\n      <td>0</td>\n      <td>0</td>\n      <td>0</td>\n    </tr>\n    <tr>\n      <th>4</th>\n      <td>5</td>\n      <td>35</td>\n      <td>8</td>\n      <td>45</td>\n      <td>91330</td>\n      <td>4</td>\n      <td>1.0</td>\n      <td>2</td>\n      <td>0</td>\n      <td>0</td>\n      <td>0</td>\n      <td>0</td>\n      <td>0</td>\n      <td>1</td>\n    </tr>\n  </tbody>\n</table>\n</div>"
     },
     "metadata": {},
     "execution_count": 10
    }
   ],
   "source": [
    "# View top 5 rows\n",
    "pdata.head()"
   ]
  },
  {
   "cell_type": "code",
   "execution_count": 12,
   "metadata": {},
   "outputs": [
    {
     "output_type": "execute_result",
     "data": {
      "text/plain": "                ID          Age     ...            Online   CreditCard\ncount  5000.000000  5000.000000     ...       5000.000000  5000.000000\nmean   2500.500000    45.338400     ...          0.596800     0.294000\nstd    1443.520003    11.463166     ...          0.490589     0.455637\nmin       1.000000    23.000000     ...          0.000000     0.000000\n25%    1250.750000    35.000000     ...          0.000000     0.000000\n50%    2500.500000    45.000000     ...          1.000000     0.000000\n75%    3750.250000    55.000000     ...          1.000000     1.000000\nmax    5000.000000    67.000000     ...          1.000000     1.000000\n\n[8 rows x 14 columns]",
      "text/html": "<div>\n<style scoped>\n    .dataframe tbody tr th:only-of-type {\n        vertical-align: middle;\n    }\n\n    .dataframe tbody tr th {\n        vertical-align: top;\n    }\n\n    .dataframe thead th {\n        text-align: right;\n    }\n</style>\n<table border=\"1\" class=\"dataframe\">\n  <thead>\n    <tr style=\"text-align: right;\">\n      <th></th>\n      <th>ID</th>\n      <th>Age</th>\n      <th>Experience</th>\n      <th>Income</th>\n      <th>ZIP Code</th>\n      <th>Family</th>\n      <th>CCAvg</th>\n      <th>Education</th>\n      <th>Mortgage</th>\n      <th>Personal Loan</th>\n      <th>Securities Account</th>\n      <th>CD Account</th>\n      <th>Online</th>\n      <th>CreditCard</th>\n    </tr>\n  </thead>\n  <tbody>\n    <tr>\n      <th>count</th>\n      <td>5000.000000</td>\n      <td>5000.000000</td>\n      <td>5000.000000</td>\n      <td>5000.000000</td>\n      <td>5000.000000</td>\n      <td>5000.000000</td>\n      <td>5000.000000</td>\n      <td>5000.000000</td>\n      <td>5000.000000</td>\n      <td>5000.000000</td>\n      <td>5000.000000</td>\n      <td>5000.00000</td>\n      <td>5000.000000</td>\n      <td>5000.000000</td>\n    </tr>\n    <tr>\n      <th>mean</th>\n      <td>2500.500000</td>\n      <td>45.338400</td>\n      <td>20.104600</td>\n      <td>73.774200</td>\n      <td>93152.503000</td>\n      <td>2.396400</td>\n      <td>1.937938</td>\n      <td>1.881000</td>\n      <td>56.498800</td>\n      <td>0.096000</td>\n      <td>0.104400</td>\n      <td>0.06040</td>\n      <td>0.596800</td>\n      <td>0.294000</td>\n    </tr>\n    <tr>\n      <th>std</th>\n      <td>1443.520003</td>\n      <td>11.463166</td>\n      <td>11.467954</td>\n      <td>46.033729</td>\n      <td>2121.852197</td>\n      <td>1.147663</td>\n      <td>1.747659</td>\n      <td>0.839869</td>\n      <td>101.713802</td>\n      <td>0.294621</td>\n      <td>0.305809</td>\n      <td>0.23825</td>\n      <td>0.490589</td>\n      <td>0.455637</td>\n    </tr>\n    <tr>\n      <th>min</th>\n      <td>1.000000</td>\n      <td>23.000000</td>\n      <td>-3.000000</td>\n      <td>8.000000</td>\n      <td>9307.000000</td>\n      <td>1.000000</td>\n      <td>0.000000</td>\n      <td>1.000000</td>\n      <td>0.000000</td>\n      <td>0.000000</td>\n      <td>0.000000</td>\n      <td>0.00000</td>\n      <td>0.000000</td>\n      <td>0.000000</td>\n    </tr>\n    <tr>\n      <th>25%</th>\n      <td>1250.750000</td>\n      <td>35.000000</td>\n      <td>10.000000</td>\n      <td>39.000000</td>\n      <td>91911.000000</td>\n      <td>1.000000</td>\n      <td>0.700000</td>\n      <td>1.000000</td>\n      <td>0.000000</td>\n      <td>0.000000</td>\n      <td>0.000000</td>\n      <td>0.00000</td>\n      <td>0.000000</td>\n      <td>0.000000</td>\n    </tr>\n    <tr>\n      <th>50%</th>\n      <td>2500.500000</td>\n      <td>45.000000</td>\n      <td>20.000000</td>\n      <td>64.000000</td>\n      <td>93437.000000</td>\n      <td>2.000000</td>\n      <td>1.500000</td>\n      <td>2.000000</td>\n      <td>0.000000</td>\n      <td>0.000000</td>\n      <td>0.000000</td>\n      <td>0.00000</td>\n      <td>1.000000</td>\n      <td>0.000000</td>\n    </tr>\n    <tr>\n      <th>75%</th>\n      <td>3750.250000</td>\n      <td>55.000000</td>\n      <td>30.000000</td>\n      <td>98.000000</td>\n      <td>94608.000000</td>\n      <td>3.000000</td>\n      <td>2.500000</td>\n      <td>3.000000</td>\n      <td>101.000000</td>\n      <td>0.000000</td>\n      <td>0.000000</td>\n      <td>0.00000</td>\n      <td>1.000000</td>\n      <td>1.000000</td>\n    </tr>\n    <tr>\n      <th>max</th>\n      <td>5000.000000</td>\n      <td>67.000000</td>\n      <td>43.000000</td>\n      <td>224.000000</td>\n      <td>96651.000000</td>\n      <td>4.000000</td>\n      <td>10.000000</td>\n      <td>3.000000</td>\n      <td>635.000000</td>\n      <td>1.000000</td>\n      <td>1.000000</td>\n      <td>1.00000</td>\n      <td>1.000000</td>\n      <td>1.000000</td>\n    </tr>\n  </tbody>\n</table>\n</div>"
     },
     "metadata": {},
     "execution_count": 12
    }
   ],
   "source": [
    "# Statistical summary\n",
    "pdata.describe()\n"
   ]
  },
  {
   "cell_type": "code",
   "execution_count": 13,
   "metadata": {},
   "outputs": [
    {
     "output_type": "execute_result",
     "data": {
      "text/plain": "(5000, 14)"
     },
     "metadata": {},
     "execution_count": 13
    }
   ],
   "source": [
    "# Check null data\n",
    "pdata.isnull().values.any()\n"
   ]
  },
  {
   "cell_type": "code",
   "execution_count": null,
   "metadata": {},
   "outputs": [],
   "source": [
    "# Check shape of data\n",
    "pdata.shape"
   ]
  },
  {
   "cell_type": "code",
   "execution_count": 15,
   "metadata": {
    "tags": []
   },
   "outputs": [
    {
     "output_type": "stream",
     "name": "stdout",
     "text": "Count unique values in each column\nID                    5000\nAge                     45\nExperience              47\nIncome                 162\nZIP Code               467\nFamily                   4\nCCAvg                  108\nEducation                3\nMortgage               347\nPersonal Loan            2\nSecurities Account       2\nCD Account               2\nOnline                   2\nCreditCard               2\ndtype: int64\n"
    }
   ],
   "source": [
    "# EDA. Number of unique in each column\n",
    "unique_values = pdata.nunique()\n",
    "print('Count unique values in each column')\n",
    "print(unique_values)"
   ]
  },
  {
   "cell_type": "code",
   "execution_count": 16,
   "metadata": {
    "tags": []
   },
   "outputs": [
    {
     "output_type": "stream",
     "name": "stdout",
     "text": "3462\n"
    }
   ],
   "source": [
    "# EDA. Number of people with zero mortgage\n",
    "total_zero_mortgage_people = len(pdata.loc[pdata['Mortgage'] == 0])\n",
    "print(f'Total number of people with zero mortgage: {total_zero_mortgage_people}')"
   ]
  },
  {
   "cell_type": "code",
   "execution_count": 19,
   "metadata": {
    "tags": []
   },
   "outputs": [
    {
     "output_type": "stream",
     "name": "stdout",
     "text": "Total number of people with zero credit card spending per month: 3\n"
    }
   ],
   "source": [
    "# EDA. Number of people with zero credit card spending per month\n",
    "total_zero_spending_cc_people = len(pdata.loc[pdata['CCAvg'] == 10])\n",
    "print(f'Total number of people with zero credit card spending per month: {total_zero_spending_cc_people}')"
   ]
  },
  {
   "cell_type": "code",
   "execution_count": null,
   "metadata": {},
   "outputs": [],
   "source": []
  }
 ],
 "metadata": {
  "language_info": {
   "codemirror_mode": {
    "name": "ipython",
    "version": 3
   },
   "file_extension": ".py",
   "mimetype": "text/x-python",
   "name": "python",
   "nbconvert_exporter": "python",
   "pygments_lexer": "ipython3",
   "version": "3.8.2-final"
  },
  "orig_nbformat": 2,
  "kernelspec": {
   "name": "python38264bit0b94952842e74ff191d643c0948529f2",
   "display_name": "Python 3.8.2 64-bit"
  }
 },
 "nbformat": 4,
 "nbformat_minor": 2
}