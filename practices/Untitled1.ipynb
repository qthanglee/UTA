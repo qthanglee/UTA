{
 "cells": [
  {
   "cell_type": "code",
   "execution_count": 3,
   "metadata": {},
   "outputs": [
    {
     "name": "stdout",
     "output_type": "stream",
     "text": [
      "[-1.18402314 -0.03164023 -0.36949997 -0.18941615 -0.36994353  0.49396507\n",
      "  1.58040067 -0.01197761  0.37522589  0.50061252  0.2916274   0.15149359\n",
      " -1.20626648  1.82752442 -0.00779746 -0.95907081 -1.12068543 -1.57217869]\n"
     ]
    }
   ],
   "source": [
    "import numpy as np\n",
    "rand_vec = np.random.randn(18)\n",
    "print(rand_vec)"
   ]
  },
  {
   "cell_type": "code",
   "execution_count": 6,
   "metadata": {},
   "outputs": [
    {
     "name": "stdout",
     "output_type": "stream",
     "text": [
      "[-0.36949997 -0.18941615 -0.36994353]\n"
     ]
    }
   ],
   "source": [
    "print(rand_vec[2:5])"
   ]
  }
 ],
 "metadata": {
  "kernelspec": {
   "display_name": "Python 3",
   "language": "python",
   "name": "python3"
  },
  "language_info": {
   "codemirror_mode": {
    "name": "ipython",
    "version": 3
   },
   "file_extension": ".py",
   "mimetype": "text/x-python",
   "name": "python",
   "nbconvert_exporter": "python",
   "pygments_lexer": "ipython3",
   "version": "3.8.2"
  }
 },
 "nbformat": 4,
 "nbformat_minor": 4
}
